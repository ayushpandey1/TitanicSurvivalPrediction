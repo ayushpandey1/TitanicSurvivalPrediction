{
  "nbformat": 4,
  "nbformat_minor": 0,
  "metadata": {
    "colab": {
      "name": "Titanic.ipynb",
      "provenance": [],
      "authorship_tag": "ABX9TyM4gz88JoR6KXcJZ3MH5n+l",
      "include_colab_link": true
    },
    "kernelspec": {
      "name": "python3",
      "display_name": "Python 3"
    }
  },
  "cells": [
    {
      "cell_type": "markdown",
      "metadata": {
        "id": "view-in-github",
        "colab_type": "text"
      },
      "source": [
        "<a href=\"https://colab.research.google.com/github/ayushpandey1/TitanicSurvivalPrediction/blob/master/Titanic.ipynb\" target=\"_parent\"><img src=\"https://colab.research.google.com/assets/colab-badge.svg\" alt=\"Open In Colab\"/></a>"
      ]
    },
    {
      "cell_type": "code",
      "metadata": {
        "id": "PgflUGFyiZWY",
        "colab_type": "code",
        "colab": {
          "base_uri": "https://localhost:8080/",
          "height": 73
        },
        "outputId": "e5decaf0-8ffa-4f5f-8d0c-3fd932a41e98"
      },
      "source": [
        "'''\n",
        "The data has been split into two groups:\n",
        "1) training set (train.csv)   891 Rows\n",
        "2) test set (test.csv)        418 Rows\n",
        "Contents:\n",
        "1)Import Necessary Libraries\n",
        "2)Read In and Explore the Historic Data\n",
        "3)Data Analysis\n",
        "4)Data Visualization\n",
        "5)Cleaning Data\n",
        "6)Choosing the Best Model\n",
        "7)Creating Submission File\n",
        "'''\n",
        "\n",
        "#1) Import Necessary Libraries\n",
        "#First off, we need to import several Python libraries such as numpy, pandas, matplotlib and seaborn.\n",
        "\n",
        "#data analysis libraries\n",
        "import numpy as np\n",
        "import pandas as pd\n",
        "pd.set_option('display.width', 1000)\n",
        "pd.set_option('display.max_column', 16)\n",
        "pd.set_option('precision', 2)\n",
        "\n",
        "#visualization libraries\n",
        "import matplotlib.pyplot as plt\n",
        "import seaborn as sbn\n",
        "\n",
        "#ignore warnings\n",
        "import warnings\n",
        "warnings.filterwarnings('ignore')"
      ],
      "execution_count": 1,
      "outputs": [
        {
          "output_type": "stream",
          "text": [
            "/usr/local/lib/python3.6/dist-packages/statsmodels/tools/_testing.py:19: FutureWarning: pandas.util.testing is deprecated. Use the functions in the public API at pandas.testing instead.\n",
            "  import pandas.util.testing as tm\n"
          ],
          "name": "stderr"
        }
      ]
    },
    {
      "cell_type": "code",
      "metadata": {
        "id": "qy8770FAlt6p",
        "colab_type": "code",
        "colab": {
          "resources": {
            "http://localhost:8080/nbextensions/google.colab/files.js": {
              "data": "Ly8gQ29weXJpZ2h0IDIwMTcgR29vZ2xlIExMQwovLwovLyBMaWNlbnNlZCB1bmRlciB0aGUgQXBhY2hlIExpY2Vuc2UsIFZlcnNpb24gMi4wICh0aGUgIkxpY2Vuc2UiKTsKLy8geW91IG1heSBub3QgdXNlIHRoaXMgZmlsZSBleGNlcHQgaW4gY29tcGxpYW5jZSB3aXRoIHRoZSBMaWNlbnNlLgovLyBZb3UgbWF5IG9idGFpbiBhIGNvcHkgb2YgdGhlIExpY2Vuc2UgYXQKLy8KLy8gICAgICBodHRwOi8vd3d3LmFwYWNoZS5vcmcvbGljZW5zZXMvTElDRU5TRS0yLjAKLy8KLy8gVW5sZXNzIHJlcXVpcmVkIGJ5IGFwcGxpY2FibGUgbGF3IG9yIGFncmVlZCB0byBpbiB3cml0aW5nLCBzb2Z0d2FyZQovLyBkaXN0cmlidXRlZCB1bmRlciB0aGUgTGljZW5zZSBpcyBkaXN0cmlidXRlZCBvbiBhbiAiQVMgSVMiIEJBU0lTLAovLyBXSVRIT1VUIFdBUlJBTlRJRVMgT1IgQ09ORElUSU9OUyBPRiBBTlkgS0lORCwgZWl0aGVyIGV4cHJlc3Mgb3IgaW1wbGllZC4KLy8gU2VlIHRoZSBMaWNlbnNlIGZvciB0aGUgc3BlY2lmaWMgbGFuZ3VhZ2UgZ292ZXJuaW5nIHBlcm1pc3Npb25zIGFuZAovLyBsaW1pdGF0aW9ucyB1bmRlciB0aGUgTGljZW5zZS4KCi8qKgogKiBAZmlsZW92ZXJ2aWV3IEhlbHBlcnMgZm9yIGdvb2dsZS5jb2xhYiBQeXRob24gbW9kdWxlLgogKi8KKGZ1bmN0aW9uKHNjb3BlKSB7CmZ1bmN0aW9uIHNwYW4odGV4dCwgc3R5bGVBdHRyaWJ1dGVzID0ge30pIHsKICBjb25zdCBlbGVtZW50ID0gZG9jdW1lbnQuY3JlYXRlRWxlbWVudCgnc3BhbicpOwogIGVsZW1lbnQudGV4dENvbnRlbnQgPSB0ZXh0OwogIGZvciAoY29uc3Qga2V5IG9mIE9iamVjdC5rZXlzKHN0eWxlQXR0cmlidXRlcykpIHsKICAgIGVsZW1lbnQuc3R5bGVba2V5XSA9IHN0eWxlQXR0cmlidXRlc1trZXldOwogIH0KICByZXR1cm4gZWxlbWVudDsKfQoKLy8gTWF4IG51bWJlciBvZiBieXRlcyB3aGljaCB3aWxsIGJlIHVwbG9hZGVkIGF0IGEgdGltZS4KY29uc3QgTUFYX1BBWUxPQURfU0laRSA9IDEwMCAqIDEwMjQ7CgpmdW5jdGlvbiBfdXBsb2FkRmlsZXMoaW5wdXRJZCwgb3V0cHV0SWQpIHsKICBjb25zdCBzdGVwcyA9IHVwbG9hZEZpbGVzU3RlcChpbnB1dElkLCBvdXRwdXRJZCk7CiAgY29uc3Qgb3V0cHV0RWxlbWVudCA9IGRvY3VtZW50LmdldEVsZW1lbnRCeUlkKG91dHB1dElkKTsKICAvLyBDYWNoZSBzdGVwcyBvbiB0aGUgb3V0cHV0RWxlbWVudCB0byBtYWtlIGl0IGF2YWlsYWJsZSBmb3IgdGhlIG5leHQgY2FsbAogIC8vIHRvIHVwbG9hZEZpbGVzQ29udGludWUgZnJvbSBQeXRob24uCiAgb3V0cHV0RWxlbWVudC5zdGVwcyA9IHN0ZXBzOwoKICByZXR1cm4gX3VwbG9hZEZpbGVzQ29udGludWUob3V0cHV0SWQpOwp9CgovLyBUaGlzIGlzIHJvdWdobHkgYW4gYXN5bmMgZ2VuZXJhdG9yIChub3Qgc3VwcG9ydGVkIGluIHRoZSBicm93c2VyIHlldCksCi8vIHdoZXJlIHRoZXJlIGFyZSBtdWx0aXBsZSBhc3luY2hyb25vdXMgc3RlcHMgYW5kIHRoZSBQeXRob24gc2lkZSBpcyBnb2luZwovLyB0byBwb2xsIGZvciBjb21wbGV0aW9uIG9mIGVhY2ggc3RlcC4KLy8gVGhpcyB1c2VzIGEgUHJvbWlzZSB0byBibG9jayB0aGUgcHl0aG9uIHNpZGUgb24gY29tcGxldGlvbiBvZiBlYWNoIHN0ZXAsCi8vIHRoZW4gcGFzc2VzIHRoZSByZXN1bHQgb2YgdGhlIHByZXZpb3VzIHN0ZXAgYXMgdGhlIGlucHV0IHRvIHRoZSBuZXh0IHN0ZXAuCmZ1bmN0aW9uIF91cGxvYWRGaWxlc0NvbnRpbnVlKG91dHB1dElkKSB7CiAgY29uc3Qgb3V0cHV0RWxlbWVudCA9IGRvY3VtZW50LmdldEVsZW1lbnRCeUlkKG91dHB1dElkKTsKICBjb25zdCBzdGVwcyA9IG91dHB1dEVsZW1lbnQuc3RlcHM7CgogIGNvbnN0IG5leHQgPSBzdGVwcy5uZXh0KG91dHB1dEVsZW1lbnQubGFzdFByb21pc2VWYWx1ZSk7CiAgcmV0dXJuIFByb21pc2UucmVzb2x2ZShuZXh0LnZhbHVlLnByb21pc2UpLnRoZW4oKHZhbHVlKSA9PiB7CiAgICAvLyBDYWNoZSB0aGUgbGFzdCBwcm9taXNlIHZhbHVlIHRvIG1ha2UgaXQgYXZhaWxhYmxlIHRvIHRoZSBuZXh0CiAgICAvLyBzdGVwIG9mIHRoZSBnZW5lcmF0b3IuCiAgICBvdXRwdXRFbGVtZW50Lmxhc3RQcm9taXNlVmFsdWUgPSB2YWx1ZTsKICAgIHJldHVybiBuZXh0LnZhbHVlLnJlc3BvbnNlOwogIH0pOwp9CgovKioKICogR2VuZXJhdG9yIGZ1bmN0aW9uIHdoaWNoIGlzIGNhbGxlZCBiZXR3ZWVuIGVhY2ggYXN5bmMgc3RlcCBvZiB0aGUgdXBsb2FkCiAqIHByb2Nlc3MuCiAqIEBwYXJhbSB7c3RyaW5nfSBpbnB1dElkIEVsZW1lbnQgSUQgb2YgdGhlIGlucHV0IGZpbGUgcGlja2VyIGVsZW1lbnQuCiAqIEBwYXJhbSB7c3RyaW5nfSBvdXRwdXRJZCBFbGVtZW50IElEIG9mIHRoZSBvdXRwdXQgZGlzcGxheS4KICogQHJldHVybiB7IUl0ZXJhYmxlPCFPYmplY3Q+fSBJdGVyYWJsZSBvZiBuZXh0IHN0ZXBzLgogKi8KZnVuY3Rpb24qIHVwbG9hZEZpbGVzU3RlcChpbnB1dElkLCBvdXRwdXRJZCkgewogIGNvbnN0IGlucHV0RWxlbWVudCA9IGRvY3VtZW50LmdldEVsZW1lbnRCeUlkKGlucHV0SWQpOwogIGlucHV0RWxlbWVudC5kaXNhYmxlZCA9IGZhbHNlOwoKICBjb25zdCBvdXRwdXRFbGVtZW50ID0gZG9jdW1lbnQuZ2V0RWxlbWVudEJ5SWQob3V0cHV0SWQpOwogIG91dHB1dEVsZW1lbnQuaW5uZXJIVE1MID0gJyc7CgogIGNvbnN0IHBpY2tlZFByb21pc2UgPSBuZXcgUHJvbWlzZSgocmVzb2x2ZSkgPT4gewogICAgaW5wdXRFbGVtZW50LmFkZEV2ZW50TGlzdGVuZXIoJ2NoYW5nZScsIChlKSA9PiB7CiAgICAgIHJlc29sdmUoZS50YXJnZXQuZmlsZXMpOwogICAgfSk7CiAgfSk7CgogIGNvbnN0IGNhbmNlbCA9IGRvY3VtZW50LmNyZWF0ZUVsZW1lbnQoJ2J1dHRvbicpOwogIGlucHV0RWxlbWVudC5wYXJlbnRFbGVtZW50LmFwcGVuZENoaWxkKGNhbmNlbCk7CiAgY2FuY2VsLnRleHRDb250ZW50ID0gJ0NhbmNlbCB1cGxvYWQnOwogIGNvbnN0IGNhbmNlbFByb21pc2UgPSBuZXcgUHJvbWlzZSgocmVzb2x2ZSkgPT4gewogICAgY2FuY2VsLm9uY2xpY2sgPSAoKSA9PiB7CiAgICAgIHJlc29sdmUobnVsbCk7CiAgICB9OwogIH0pOwoKICAvLyBXYWl0IGZvciB0aGUgdXNlciB0byBwaWNrIHRoZSBmaWxlcy4KICBjb25zdCBmaWxlcyA9IHlpZWxkIHsKICAgIHByb21pc2U6IFByb21pc2UucmFjZShbcGlja2VkUHJvbWlzZSwgY2FuY2VsUHJvbWlzZV0pLAogICAgcmVzcG9uc2U6IHsKICAgICAgYWN0aW9uOiAnc3RhcnRpbmcnLAogICAgfQogIH07CgogIGNhbmNlbC5yZW1vdmUoKTsKCiAgLy8gRGlzYWJsZSB0aGUgaW5wdXQgZWxlbWVudCBzaW5jZSBmdXJ0aGVyIHBpY2tzIGFyZSBub3QgYWxsb3dlZC4KICBpbnB1dEVsZW1lbnQuZGlzYWJsZWQgPSB0cnVlOwoKICBpZiAoIWZpbGVzKSB7CiAgICByZXR1cm4gewogICAgICByZXNwb25zZTogewogICAgICAgIGFjdGlvbjogJ2NvbXBsZXRlJywKICAgICAgfQogICAgfTsKICB9CgogIGZvciAoY29uc3QgZmlsZSBvZiBmaWxlcykgewogICAgY29uc3QgbGkgPSBkb2N1bWVudC5jcmVhdGVFbGVtZW50KCdsaScpOwogICAgbGkuYXBwZW5kKHNwYW4oZmlsZS5uYW1lLCB7Zm9udFdlaWdodDogJ2JvbGQnfSkpOwogICAgbGkuYXBwZW5kKHNwYW4oCiAgICAgICAgYCgke2ZpbGUudHlwZSB8fCAnbi9hJ30pIC0gJHtmaWxlLnNpemV9IGJ5dGVzLCBgICsKICAgICAgICBgbGFzdCBtb2RpZmllZDogJHsKICAgICAgICAgICAgZmlsZS5sYXN0TW9kaWZpZWREYXRlID8gZmlsZS5sYXN0TW9kaWZpZWREYXRlLnRvTG9jYWxlRGF0ZVN0cmluZygpIDoKICAgICAgICAgICAgICAgICAgICAgICAgICAgICAgICAgICAgJ24vYSd9IC0gYCkpOwogICAgY29uc3QgcGVyY2VudCA9IHNwYW4oJzAlIGRvbmUnKTsKICAgIGxpLmFwcGVuZENoaWxkKHBlcmNlbnQpOwoKICAgIG91dHB1dEVsZW1lbnQuYXBwZW5kQ2hpbGQobGkpOwoKICAgIGNvbnN0IGZpbGVEYXRhUHJvbWlzZSA9IG5ldyBQcm9taXNlKChyZXNvbHZlKSA9PiB7CiAgICAgIGNvbnN0IHJlYWRlciA9IG5ldyBGaWxlUmVhZGVyKCk7CiAgICAgIHJlYWRlci5vbmxvYWQgPSAoZSkgPT4gewogICAgICAgIHJlc29sdmUoZS50YXJnZXQucmVzdWx0KTsKICAgICAgfTsKICAgICAgcmVhZGVyLnJlYWRBc0FycmF5QnVmZmVyKGZpbGUpOwogICAgfSk7CiAgICAvLyBXYWl0IGZvciB0aGUgZGF0YSB0byBiZSByZWFkeS4KICAgIGxldCBmaWxlRGF0YSA9IHlpZWxkIHsKICAgICAgcHJvbWlzZTogZmlsZURhdGFQcm9taXNlLAogICAgICByZXNwb25zZTogewogICAgICAgIGFjdGlvbjogJ2NvbnRpbnVlJywKICAgICAgfQogICAgfTsKCiAgICAvLyBVc2UgYSBjaHVua2VkIHNlbmRpbmcgdG8gYXZvaWQgbWVzc2FnZSBzaXplIGxpbWl0cy4gU2VlIGIvNjIxMTU2NjAuCiAgICBsZXQgcG9zaXRpb24gPSAwOwogICAgd2hpbGUgKHBvc2l0aW9uIDwgZmlsZURhdGEuYnl0ZUxlbmd0aCkgewogICAgICBjb25zdCBsZW5ndGggPSBNYXRoLm1pbihmaWxlRGF0YS5ieXRlTGVuZ3RoIC0gcG9zaXRpb24sIE1BWF9QQVlMT0FEX1NJWkUpOwogICAgICBjb25zdCBjaHVuayA9IG5ldyBVaW50OEFycmF5KGZpbGVEYXRhLCBwb3NpdGlvbiwgbGVuZ3RoKTsKICAgICAgcG9zaXRpb24gKz0gbGVuZ3RoOwoKICAgICAgY29uc3QgYmFzZTY0ID0gYnRvYShTdHJpbmcuZnJvbUNoYXJDb2RlLmFwcGx5KG51bGwsIGNodW5rKSk7CiAgICAgIHlpZWxkIHsKICAgICAgICByZXNwb25zZTogewogICAgICAgICAgYWN0aW9uOiAnYXBwZW5kJywKICAgICAgICAgIGZpbGU6IGZpbGUubmFtZSwKICAgICAgICAgIGRhdGE6IGJhc2U2NCwKICAgICAgICB9LAogICAgICB9OwogICAgICBwZXJjZW50LnRleHRDb250ZW50ID0KICAgICAgICAgIGAke01hdGgucm91bmQoKHBvc2l0aW9uIC8gZmlsZURhdGEuYnl0ZUxlbmd0aCkgKiAxMDApfSUgZG9uZWA7CiAgICB9CiAgfQoKICAvLyBBbGwgZG9uZS4KICB5aWVsZCB7CiAgICByZXNwb25zZTogewogICAgICBhY3Rpb246ICdjb21wbGV0ZScsCiAgICB9CiAgfTsKfQoKc2NvcGUuZ29vZ2xlID0gc2NvcGUuZ29vZ2xlIHx8IHt9OwpzY29wZS5nb29nbGUuY29sYWIgPSBzY29wZS5nb29nbGUuY29sYWIgfHwge307CnNjb3BlLmdvb2dsZS5jb2xhYi5fZmlsZXMgPSB7CiAgX3VwbG9hZEZpbGVzLAogIF91cGxvYWRGaWxlc0NvbnRpbnVlLAp9Owp9KShzZWxmKTsK",
              "ok": true,
              "headers": [
                [
                  "content-type",
                  "application/javascript"
                ]
              ],
              "status": 200,
              "status_text": ""
            }
          },
          "base_uri": "https://localhost:8080/",
          "height": 129
        },
        "outputId": "1ac67732-f2c7-4035-e904-c55f056f380b"
      },
      "source": [
        "#Load the data\n",
        "from google.colab import files\n",
        "uploaded=files.upload()\n",
        "uploaded=files.upload()"
      ],
      "execution_count": 2,
      "outputs": [
        {
          "output_type": "display_data",
          "data": {
            "text/html": [
              "\n",
              "     <input type=\"file\" id=\"files-78513882-22b7-4ed8-a36e-9f0c708517f1\" name=\"files[]\" multiple disabled\n",
              "        style=\"border:none\" />\n",
              "     <output id=\"result-78513882-22b7-4ed8-a36e-9f0c708517f1\">\n",
              "      Upload widget is only available when the cell has been executed in the\n",
              "      current browser session. Please rerun this cell to enable.\n",
              "      </output>\n",
              "      <script src=\"/nbextensions/google.colab/files.js\"></script> "
            ],
            "text/plain": [
              "<IPython.core.display.HTML object>"
            ]
          },
          "metadata": {
            "tags": []
          }
        },
        {
          "output_type": "stream",
          "text": [
            "Saving train.csv to train (1).csv\n"
          ],
          "name": "stdout"
        },
        {
          "output_type": "display_data",
          "data": {
            "text/html": [
              "\n",
              "     <input type=\"file\" id=\"files-258fd1c2-2c83-4885-a3c5-d9e630ab84d1\" name=\"files[]\" multiple disabled\n",
              "        style=\"border:none\" />\n",
              "     <output id=\"result-258fd1c2-2c83-4885-a3c5-d9e630ab84d1\">\n",
              "      Upload widget is only available when the cell has been executed in the\n",
              "      current browser session. Please rerun this cell to enable.\n",
              "      </output>\n",
              "      <script src=\"/nbextensions/google.colab/files.js\"></script> "
            ],
            "text/plain": [
              "<IPython.core.display.HTML object>"
            ]
          },
          "metadata": {
            "tags": []
          }
        },
        {
          "output_type": "stream",
          "text": [
            "Saving test.csv to test (1).csv\n"
          ],
          "name": "stdout"
        }
      ]
    },
    {
      "cell_type": "code",
      "metadata": {
        "id": "q3qPtS0wlAoZ",
        "colab_type": "code",
        "colab": {
          "base_uri": "https://localhost:8080/",
          "height": 467
        },
        "outputId": "d2860707-f930-4ca7-923f-ab0a97d48b88"
      },
      "source": [
        "#STEP-2) Read in and Explore the Data\n",
        "\n",
        "#It's time to read in our training and testing data using pd.read_csv, and take a first look at the training data using the describe() function.\n",
        "\n",
        "#import train and test CSV files\n",
        "train = pd.read_csv('train.csv')   #12 columns\n",
        "test = pd.read_csv('test.csv')     #11 columns\n",
        "\n",
        "#take a look at the training data\n",
        "\n",
        "print( train.describe() )\n",
        "\n",
        "print( \"\\n\"  )\n",
        "\n",
        "print( train.describe(include=\"all\")  )\n",
        "\n",
        "\n",
        "\n",
        "print(  \"\\n\"  )\n",
        "\n",
        "\n"
      ],
      "execution_count": 3,
      "outputs": [
        {
          "output_type": "stream",
          "text": [
            "       PassengerId  Survived  Pclass     Age   SibSp   Parch    Fare\n",
            "count       891.00    891.00  891.00  714.00  891.00  891.00  891.00\n",
            "mean        446.00      0.38    2.31   29.70    0.52    0.38   32.20\n",
            "std         257.35      0.49    0.84   14.53    1.10    0.81   49.69\n",
            "min           1.00      0.00    1.00    0.42    0.00    0.00    0.00\n",
            "25%         223.50      0.00    2.00   20.12    0.00    0.00    7.91\n",
            "50%         446.00      0.00    3.00   28.00    0.00    0.00   14.45\n",
            "75%         668.50      1.00    3.00   38.00    1.00    0.00   31.00\n",
            "max         891.00      1.00    3.00   80.00    8.00    6.00  512.33\n",
            "\n",
            "\n",
            "        PassengerId  Survived  Pclass                                      Name   Sex     Age   SibSp   Parch  Ticket    Fare        Cabin Embarked\n",
            "count        891.00    891.00  891.00                                       891   891  714.00  891.00  891.00     891  891.00          204      889\n",
            "unique          NaN       NaN     NaN                                       891     2     NaN     NaN     NaN     681     NaN          147        3\n",
            "top             NaN       NaN     NaN  Navratil, Mr. Michel (\"Louis M Hoffman\")  male     NaN     NaN     NaN  347082     NaN  C23 C25 C27        S\n",
            "freq            NaN       NaN     NaN                                         1   577     NaN     NaN     NaN       7     NaN            4      644\n",
            "mean         446.00      0.38    2.31                                       NaN   NaN   29.70    0.52    0.38     NaN   32.20          NaN      NaN\n",
            "std          257.35      0.49    0.84                                       NaN   NaN   14.53    1.10    0.81     NaN   49.69          NaN      NaN\n",
            "min            1.00      0.00    1.00                                       NaN   NaN    0.42    0.00    0.00     NaN    0.00          NaN      NaN\n",
            "25%          223.50      0.00    2.00                                       NaN   NaN   20.12    0.00    0.00     NaN    7.91          NaN      NaN\n",
            "50%          446.00      0.00    3.00                                       NaN   NaN   28.00    0.00    0.00     NaN   14.45          NaN      NaN\n",
            "75%          668.50      1.00    3.00                                       NaN   NaN   38.00    1.00    0.00     NaN   31.00          NaN      NaN\n",
            "max          891.00      1.00    3.00                                       NaN   NaN   80.00    8.00    6.00     NaN  512.33          NaN      NaN\n",
            "\n",
            "\n"
          ],
          "name": "stdout"
        }
      ]
    },
    {
      "cell_type": "code",
      "metadata": {
        "id": "iHhunc-ym70m",
        "colab_type": "code",
        "colab": {
          "base_uri": "https://localhost:8080/",
          "height": 35
        },
        "outputId": "f53b4a18-d3f8-478e-ad65-38bca809b39c"
      },
      "source": [
        "#STEP-3) Data Analysis\n",
        "\n",
        "#We're going to consider the features in the dataset and how complete they are.\n",
        "\n",
        "#get a list of the features within the dataset\n",
        "print(   train.columns  )\n"
      ],
      "execution_count": 4,
      "outputs": [
        {
          "output_type": "stream",
          "text": [
            "Index(['PassengerId', 'Survived', 'Pclass', 'Name', 'Sex', 'Age', 'SibSp', 'Parch', 'Ticket', 'Fare', 'Cabin', 'Embarked'], dtype='object')\n"
          ],
          "name": "stdout"
        }
      ]
    },
    {
      "cell_type": "code",
      "metadata": {
        "id": "6F1OkgO_ngil",
        "colab_type": "code",
        "colab": {
          "base_uri": "https://localhost:8080/",
          "height": 271
        },
        "outputId": "3df2c8a8-e6bf-405e-8db9-ef34994843be"
      },
      "source": [
        "#see a sample of the dataset to get an idea of the variables\n",
        "\n",
        "print( train.head()  )\n",
        "\n",
        "print()\n",
        "print( train.sample(5)  )"
      ],
      "execution_count": 5,
      "outputs": [
        {
          "output_type": "stream",
          "text": [
            "   PassengerId  Survived  Pclass                                               Name     Sex   Age  SibSp  Parch            Ticket   Fare Cabin Embarked\n",
            "0            1         0       3                            Braund, Mr. Owen Harris    male  22.0      1      0         A/5 21171   7.25   NaN        S\n",
            "1            2         1       1  Cumings, Mrs. John Bradley (Florence Briggs Th...  female  38.0      1      0          PC 17599  71.28   C85        C\n",
            "2            3         1       3                             Heikkinen, Miss. Laina  female  26.0      0      0  STON/O2. 3101282   7.92   NaN        S\n",
            "3            4         1       1       Futrelle, Mrs. Jacques Heath (Lily May Peel)  female  35.0      1      0            113803  53.10  C123        S\n",
            "4            5         0       3                           Allen, Mr. William Henry    male  35.0      0      0            373450   8.05   NaN        S\n",
            "\n",
            "     PassengerId  Survived  Pclass                                        Name     Sex   Age  SibSp  Parch     Ticket    Fare Cabin Embarked\n",
            "374          375         0       3                  Palsson, Miss. Stina Viola  female   3.0      3      1     349909   21.07   NaN        S\n",
            "505          506         0       1  Penasco y Castellana, Mr. Victor de Satode    male  18.0      1      0   PC 17758  108.90   C65        C\n",
            "176          177         0       3               Lefebre, Master. Henry Forbes    male   NaN      3      1       4133   25.47   NaN        S\n",
            "456          457         0       1                   Millet, Mr. Francis Davis    male  65.0      0      0      13509   26.55   E38        S\n",
            "746          747         0       3                 Abbott, Mr. Rossmore Edward    male  16.0      1      1  C.A. 2673   20.25   NaN        S\n"
          ],
          "name": "stdout"
        }
      ]
    },
    {
      "cell_type": "code",
      "metadata": {
        "id": "t1-V4xP5nxrw",
        "colab_type": "code",
        "colab": {
          "base_uri": "https://localhost:8080/",
          "height": 269
        },
        "outputId": "4dbe3d9e-ce24-401a-84b9-689b8727e2fe"
      },
      "source": [
        "#Observations from above output\n",
        "\n",
        "#Numerical Features:    Age (Continuous), Fare (Continuous), SibSp (Discrete), Parch (Discrete)\n",
        "#Categorical Features:  Survived, Sex, Embarked, Pclass\n",
        "#Alphanumeric Features: Name, Ticket, Cabin\n",
        "\n",
        "\n",
        "\n",
        "print( \"Data types for each feature : -\"  )\n",
        "print( train.dtypes  )"
      ],
      "execution_count": 6,
      "outputs": [
        {
          "output_type": "stream",
          "text": [
            "Data types for each feature : -\n",
            "PassengerId      int64\n",
            "Survived         int64\n",
            "Pclass           int64\n",
            "Name            object\n",
            "Sex             object\n",
            "Age            float64\n",
            "SibSp            int64\n",
            "Parch            int64\n",
            "Ticket          object\n",
            "Fare           float64\n",
            "Cabin           object\n",
            "Embarked        object\n",
            "dtype: object\n"
          ],
          "name": "stdout"
        }
      ]
    },
    {
      "cell_type": "code",
      "metadata": {
        "id": "rAsJdqf9n5-d",
        "colab_type": "code",
        "colab": {
          "base_uri": "https://localhost:8080/",
          "height": 233
        },
        "outputId": "5fc62c64-150a-4939-e98e-d4f5dbf5a1bc"
      },
      "source": [
        "#Now that we have an idea of what kinds of features we're working with,\n",
        "# we can see how much information we have about each of them.\n",
        "\n",
        "#see a summary of the training dataset\n",
        "print( train.describe(include = \"all\")  )"
      ],
      "execution_count": 7,
      "outputs": [
        {
          "output_type": "stream",
          "text": [
            "        PassengerId  Survived  Pclass                                      Name   Sex     Age   SibSp   Parch  Ticket    Fare        Cabin Embarked\n",
            "count        891.00    891.00  891.00                                       891   891  714.00  891.00  891.00     891  891.00          204      889\n",
            "unique          NaN       NaN     NaN                                       891     2     NaN     NaN     NaN     681     NaN          147        3\n",
            "top             NaN       NaN     NaN  Navratil, Mr. Michel (\"Louis M Hoffman\")  male     NaN     NaN     NaN  347082     NaN  C23 C25 C27        S\n",
            "freq            NaN       NaN     NaN                                         1   577     NaN     NaN     NaN       7     NaN            4      644\n",
            "mean         446.00      0.38    2.31                                       NaN   NaN   29.70    0.52    0.38     NaN   32.20          NaN      NaN\n",
            "std          257.35      0.49    0.84                                       NaN   NaN   14.53    1.10    0.81     NaN   49.69          NaN      NaN\n",
            "min            1.00      0.00    1.00                                       NaN   NaN    0.42    0.00    0.00     NaN    0.00          NaN      NaN\n",
            "25%          223.50      0.00    2.00                                       NaN   NaN   20.12    0.00    0.00     NaN    7.91          NaN      NaN\n",
            "50%          446.00      0.00    3.00                                       NaN   NaN   28.00    0.00    0.00     NaN   14.45          NaN      NaN\n",
            "75%          668.50      1.00    3.00                                       NaN   NaN   38.00    1.00    0.00     NaN   31.00          NaN      NaN\n",
            "max          891.00      1.00    3.00                                       NaN   NaN   80.00    8.00    6.00     NaN  512.33          NaN      NaN\n"
          ],
          "name": "stdout"
        }
      ]
    },
    {
      "cell_type": "code",
      "metadata": {
        "id": "219q8p4doDl3",
        "colab_type": "code",
        "colab": {
          "base_uri": "https://localhost:8080/",
          "height": 269
        },
        "outputId": "01396339-6f59-4335-8a85-30554f0c6c95"
      },
      "source": [
        "#Some Observations from above output\n",
        "\n",
        "#1)There are a total of 891 passengers in our training set.\n",
        "\n",
        "#2)The Age feature is missing approximately 19.8% of its values.\n",
        "# Hence Age feature is pretty important to survival,\n",
        "# so we should probably attempt to fill these gaps.\n",
        "\n",
        "#3)The Cabin feature is missing approximately 77.1% of its values.\n",
        "# Since so much of the feature is missing, it would be hard to fill in the missing values.\n",
        "# We'll probably drop these values from our dataset.\n",
        "\n",
        "#4)The Embarked feature is missing only 2 passeners,\n",
        "#  which should be relatively harmless.\n",
        "\n",
        "#check for any other unusable values\n",
        "\n",
        "print()\n",
        "print( pd.isnull(train).sum()  )\n",
        "#We can see that except for the above mentioned missing values,\n",
        "# no NaN values exist."
      ],
      "execution_count": 8,
      "outputs": [
        {
          "output_type": "stream",
          "text": [
            "\n",
            "PassengerId      0\n",
            "Survived         0\n",
            "Pclass           0\n",
            "Name             0\n",
            "Sex              0\n",
            "Age            177\n",
            "SibSp            0\n",
            "Parch            0\n",
            "Ticket           0\n",
            "Fare             0\n",
            "Cabin          687\n",
            "Embarked         2\n",
            "dtype: int64\n"
          ],
          "name": "stdout"
        }
      ]
    },
    {
      "cell_type": "code",
      "metadata": {
        "id": "kE5TasIRoIw2",
        "colab_type": "code",
        "colab": {
          "base_uri": "https://localhost:8080/",
          "height": 461
        },
        "outputId": "92dd1104-dfb9-4b4c-d120-99ba4b466f1e"
      },
      "source": [
        "#Relationship between Features and Survival\n",
        "#In this section, we analyze relationship between different features\n",
        "#  with respect to Survival. We see how different feature values\n",
        "#  show different survival chance. We also plot different kinds of\n",
        "# diagrams to visualize our data and findings.\n",
        "\n",
        "\n",
        "#4) Data Visualization\n",
        "\n",
        "#It's time to visualize our data so we can estimate few predictions\n",
        "\n",
        "\n",
        "#4.A) Sex Feature\n",
        "\n",
        "#draw a bar plot of survival by sex\n",
        "sbn.barplot(x=\"Sex\", y=\"Survived\", data=train)\n",
        "plt.show()\n",
        "\n",
        "\n",
        "\n",
        "\n",
        "#print(\" percentages of females vs. males that survive\")\n",
        "#print( \"Percentage of females who survived:\", train[\"Survived\"][train[\"Sex\"] == 'female'].value_counts(normalize = True)[1]*100  )\n",
        "\n",
        "\n",
        "print( \"\\n\\n\"  )\n",
        "print( train.head()  )"
      ],
      "execution_count": 9,
      "outputs": [
        {
          "output_type": "display_data",
          "data": {
            "image/png": "[encoded data removed]",
            "text/plain": [
              "<Figure size 432x288 with 1 Axes>"
            ]
          },
          "metadata": {
            "tags": [],
            "needs_background": "light"
          }
        },
        {
          "output_type": "stream",
          "text": [
            "\n",
            "\n",
            "\n",
            "   PassengerId  Survived  Pclass                                               Name     Sex   Age  SibSp  Parch            Ticket   Fare Cabin Embarked\n",
            "0            1         0       3                            Braund, Mr. Owen Harris    male  22.0      1      0         A/5 21171   7.25   NaN        S\n",
            "1            2         1       1  Cumings, Mrs. John Bradley (Florence Briggs Th...  female  38.0      1      0          PC 17599  71.28   C85        C\n",
            "2            3         1       3                             Heikkinen, Miss. Laina  female  26.0      0      0  STON/O2. 3101282   7.92   NaN        S\n",
            "3            4         1       1       Futrelle, Mrs. Jacques Heath (Lily May Peel)  female  35.0      1      0            113803  53.10  C123        S\n",
            "4            5         0       3                           Allen, Mr. William Henry    male  35.0      0      0            373450   8.05   NaN        S\n"
          ],
          "name": "stdout"
        }
      ]
    },
    {
      "cell_type": "code",
      "metadata": {
        "id": "bIM4OUXKoqND",
        "colab_type": "code",
        "colab": {
          "base_uri": "https://localhost:8080/",
          "height": 125
        },
        "outputId": "50e4fbfa-6d0e-4b27-f2f0-879d52cc29d2"
      },
      "source": [
        "#print( \"------------------\\n\\n\"  )\n",
        "print( train[\"Survived\"].head()  )"
      ],
      "execution_count": 10,
      "outputs": [
        {
          "output_type": "stream",
          "text": [
            "0    0\n",
            "1    1\n",
            "2    1\n",
            "3    1\n",
            "4    0\n",
            "Name: Survived, dtype: int64\n"
          ],
          "name": "stdout"
        }
      ]
    },
    {
      "cell_type": "code",
      "metadata": {
        "id": "Y9EtJ7nepCn5",
        "colab_type": "code",
        "colab": {
          "base_uri": "https://localhost:8080/",
          "height": 125
        },
        "outputId": "308b4efc-2136-46b4-8a92-837718259a1e"
      },
      "source": [
        "#print( \"\\n\\n\"  )\n",
        "print( train[\"Sex\"].head() == 'female'  )"
      ],
      "execution_count": 11,
      "outputs": [
        {
          "output_type": "stream",
          "text": [
            "0    False\n",
            "1     True\n",
            "2     True\n",
            "3     True\n",
            "4    False\n",
            "Name: Sex, dtype: bool\n"
          ],
          "name": "stdout"
        }
      ]
    },
    {
      "cell_type": "code",
      "metadata": {
        "id": "H86Hs-3dpIeH",
        "colab_type": "code",
        "colab": {
          "base_uri": "https://localhost:8080/",
          "height": 233
        },
        "outputId": "cd80243d-0406-4d96-b216-0066143b6a33"
      },
      "source": [
        "#print( \"**********\\n\\n\"  )\n",
        "print( train[\"Survived\"][  train[\"Sex\"] == 'female' ]  )"
      ],
      "execution_count": 12,
      "outputs": [
        {
          "output_type": "stream",
          "text": [
            "1      1\n",
            "2      1\n",
            "3      1\n",
            "8      1\n",
            "9      1\n",
            "      ..\n",
            "880    1\n",
            "882    0\n",
            "885    0\n",
            "887    1\n",
            "888    0\n",
            "Name: Survived, Length: 314, dtype: int64\n"
          ],
          "name": "stdout"
        }
      ]
    },
    {
      "cell_type": "code",
      "metadata": {
        "id": "yBJTY6LEpRQH",
        "colab_type": "code",
        "colab": {
          "base_uri": "https://localhost:8080/",
          "height": 71
        },
        "outputId": "4ce8488e-f7ce-4d79-e134-70c1c0da4a1c"
      },
      "source": [
        "#print( \"*****************\\n\\n\"  )\n",
        "print(train[\"Survived\"][train[\"Sex\"] == 'female'].value_counts() )"
      ],
      "execution_count": 13,
      "outputs": [
        {
          "output_type": "stream",
          "text": [
            "1    233\n",
            "0     81\n",
            "Name: Survived, dtype: int64\n"
          ],
          "name": "stdout"
        }
      ]
    },
    {
      "cell_type": "code",
      "metadata": {
        "id": "5zZnYhw4pXJO",
        "colab_type": "code",
        "colab": {
          "base_uri": "https://localhost:8080/",
          "height": 71
        },
        "outputId": "d0227a03-20f8-4ed1-9536-95794f9f9fb1"
      },
      "source": [
        "#print( \"====================================\\n\\n\"  )\n",
        "print( train[\"Survived\"][train[\"Sex\"] == 'female'].value_counts(normalize = True)  )"
      ],
      "execution_count": 14,
      "outputs": [
        {
          "output_type": "stream",
          "text": [
            "1    0.74\n",
            "0    0.26\n",
            "Name: Survived, dtype: float64\n"
          ],
          "name": "stdout"
        }
      ]
    },
    {
      "cell_type": "code",
      "metadata": {
        "id": "HVebo29tpcKk",
        "colab_type": "code",
        "colab": {
          "base_uri": "https://localhost:8080/",
          "height": 35
        },
        "outputId": "1ac1a77c-ba15-4f14-dacb-e26731acf9f5"
      },
      "source": [
        "print( train[\"Survived\"][train[\"Sex\"] == 'female'].value_counts(normalize = True)[1]  )"
      ],
      "execution_count": 15,
      "outputs": [
        {
          "output_type": "stream",
          "text": [
            "0.7420382165605095\n"
          ],
          "name": "stdout"
        }
      ]
    },
    {
      "cell_type": "code",
      "metadata": {
        "id": "iNEenMm3ph83",
        "colab_type": "code",
        "colab": {
          "base_uri": "https://localhost:8080/",
          "height": 53
        },
        "outputId": "b3077ece-e161-4f36-9a2c-e06ea25e0e65"
      },
      "source": [
        "print( \"Percentage of females who survived:\", train[\"Survived\"][train[\"Sex\"] == 'female'].value_counts(normalize = True)[1]*100  )\n",
        "print( \"Percentage of males who survived:\", train[\"Survived\"][train[\"Sex\"] == 'male'].value_counts(normalize = True)[1]*100  )"
      ],
      "execution_count": 16,
      "outputs": [
        {
          "output_type": "stream",
          "text": [
            "Percentage of females who survived: 74.20382165605095\n",
            "Percentage of males who survived: 18.890814558058924\n"
          ],
          "name": "stdout"
        }
      ]
    },
    {
      "cell_type": "code",
      "metadata": {
        "id": "CuVGRO2bpzZ4",
        "colab_type": "code",
        "colab": {
          "base_uri": "https://localhost:8080/",
          "height": 279
        },
        "outputId": "3a759805-a591-462a-8f0b-43c91ef6f923"
      },
      "source": [
        "#Some Observations from above output\n",
        "# As predicted, females have a much higher chance of survival than males.\n",
        "# The Sex feature is essential in our predictions.\n",
        "\n",
        "#4.B) Pclass Feature\n",
        "\n",
        "#draw a bar plot of survival by Pclass\n",
        "sbn.barplot(x=\"Pclass\", y=\"Survived\", data=train)\n",
        "plt.show()"
      ],
      "execution_count": 17,
      "outputs": [
        {
          "output_type": "display_data",
          "data": {
            "image/png": "[encoded data removed]",
            "text/plain": [
              "<Figure size 432x288 with 1 Axes>"
            ]
          },
          "metadata": {
            "tags": [],
            "needs_background": "light"
          }
        }
      ]
    },
    {
      "cell_type": "code",
      "metadata": {
        "id": "lgdnVcbnq2PA",
        "colab_type": "code",
        "colab": {
          "base_uri": "https://localhost:8080/",
          "height": 71
        },
        "outputId": "b05e4f62-c033-4b3f-c7fa-41593c29933e"
      },
      "source": [
        "#print percentage of people by Pclass that survived\n",
        "\n",
        "print(\"Percentage of Pclass = 1 who survived:\", train[\"Survived\"][train[\"Pclass\"] == 1].value_counts(normalize = True)[1]*100)\n",
        "print(\"Percentage of Pclass = 2 who survived:\", train[\"Survived\"][train[\"Pclass\"] == 2].value_counts(normalize = True)[1]*100)\n",
        "print(\"Percentage of Pclass = 3 who survived:\", train[\"Survived\"][train[\"Pclass\"] == 3].value_counts(normalize = True)[1]*100)"
      ],
      "execution_count": 18,
      "outputs": [
        {
          "output_type": "stream",
          "text": [
            "Percentage of Pclass = 1 who survived: 62.96296296296296\n",
            "Percentage of Pclass = 2 who survived: 47.28260869565217\n",
            "Percentage of Pclass = 3 who survived: 24.236252545824847\n"
          ],
          "name": "stdout"
        }
      ]
    },
    {
      "cell_type": "code",
      "metadata": {
        "id": "N1HEja4wq63h",
        "colab_type": "code",
        "colab": {
          "base_uri": "https://localhost:8080/",
          "height": 305
        },
        "outputId": "4fa29db4-59dd-40df-988a-4d97aa01da63"
      },
      "source": [
        "print()\n",
        "print( \"Percentage of Pclass = 1 who survived:\\n\\n\", train[\"Survived\"][train[\"Pclass\"] == 1].value_counts()  )\n",
        "\n",
        "print()\n",
        "print( \"Percentage of Pclass = 1 who survived:\\n\\n\", train[\"Survived\"][train[\"Pclass\"] == 1].value_counts(normalize = True)    )\n",
        "\n",
        "print()\n",
        "print( \"Percentage of Pclass = 1 who survived:\\n\\n\", train[\"Survived\"][train[\"Pclass\"] == 1].value_counts(normalize = True)[1]     )"
      ],
      "execution_count": 19,
      "outputs": [
        {
          "output_type": "stream",
          "text": [
            "\n",
            "Percentage of Pclass = 1 who survived:\n",
            "\n",
            " 1    136\n",
            "0     80\n",
            "Name: Survived, dtype: int64\n",
            "\n",
            "Percentage of Pclass = 1 who survived:\n",
            "\n",
            " 1    0.63\n",
            "0    0.37\n",
            "Name: Survived, dtype: float64\n",
            "\n",
            "Percentage of Pclass = 1 who survived:\n",
            "\n",
            " 0.6296296296296297\n"
          ],
          "name": "stdout"
        }
      ]
    },
    {
      "cell_type": "code",
      "metadata": {
        "id": "b8aSWab1rPdT",
        "colab_type": "code",
        "colab": {
          "base_uri": "https://localhost:8080/",
          "height": 333
        },
        "outputId": "d12fe893-2da4-4cc4-afb7-d6b6d0c1242c"
      },
      "source": [
        "#Some Observations from above output\n",
        "\n",
        "#As predicted, people with higher socioeconomic class had a higher rate of survival. (62.9% vs. 47.3% vs. 24.2%)\n",
        "\n",
        "\n",
        "\n",
        "#4.C) SibSp Feature\n",
        "#draw a bar plot for SibSp vs. survival\n",
        "sbn.barplot(x=\"SibSp\", y=\"Survived\", data=train)\n",
        "\n",
        "#I won't be printing individual percent values for all of these.\n",
        "print(\"Percentage of SibSp = 0 who survived:\",\n",
        "      train[\"Survived\"][train[\"SibSp\"] == 0].value_counts(normalize = True)[1]*100)\n",
        "\n",
        "print(\"Percentage of SibSp = 1 who survived:\",\n",
        "      train[\"Survived\"][train[\"SibSp\"] == 1].value_counts(normalize = True)[1]*100)\n",
        "\n",
        "print(\"Percentage of SibSp = 2 who survived:\",\n",
        "      train[\"Survived\"][train[\"SibSp\"] == 2].value_counts(normalize = True)[1]*100)\n",
        "\n",
        "\n",
        "plt.show()"
      ],
      "execution_count": 20,
      "outputs": [
        {
          "output_type": "stream",
          "text": [
            "Percentage of SibSp = 0 who survived: 34.53947368421053\n",
            "Percentage of SibSp = 1 who survived: 53.588516746411486\n",
            "Percentage of SibSp = 2 who survived: 46.42857142857143\n"
          ],
          "name": "stdout"
        },
        {
          "output_type": "display_data",
          "data": {
            "image/png": "[encoded data removed]",
            "text/plain": [
              "<Figure size 432x288 with 1 Axes>"
            ]
          },
          "metadata": {
            "tags": [],
            "needs_background": "light"
          }
        }
      ]
    },
    {
      "cell_type": "code",
      "metadata": {
        "id": "lhQN2tSlro-9",
        "colab_type": "code",
        "colab": {
          "base_uri": "https://localhost:8080/",
          "height": 279
        },
        "outputId": "0b2125d3-b50f-48b3-a469-b030a7189254"
      },
      "source": [
        "#Some Observations from above output\n",
        "\n",
        "#In general, its clear that people with more siblings or\n",
        "# spouses aboard were less likely to survive.\n",
        "# However, contrary to expectations, people with no siblings\n",
        "#  or spouses were less to likely to survive than those with one or two. (34.5% vs 53.4% vs. 46.4%)\n",
        "\n",
        "#4.D)Parch Feature\n",
        "\n",
        "#draw a bar plot for Parch vs. survival\n",
        "sbn.barplot(x=\"Parch\", y=\"Survived\", data=train)\n",
        "plt.show()"
      ],
      "execution_count": 21,
      "outputs": [
        {
          "output_type": "display_data",
          "data": {
            "image/png": "[encoded data removed]",
            "text/plain": [
              "<Figure size 432x288 with 1 Axes>"
            ]
          },
          "metadata": {
            "tags": [],
            "needs_background": "light"
          }
        }
      ]
    },
    {
      "cell_type": "code",
      "metadata": {
        "id": "z-9TowJ_rwdF",
        "colab_type": "code",
        "colab": {
          "base_uri": "https://localhost:8080/",
          "height": 407
        },
        "outputId": "e369baba-b240-4e05-ac33-6134cc511ae0"
      },
      "source": [
        "#Some Observations from above output\n",
        "\n",
        "#People with less than four parents or children aboard are more likely to survive than those with four or more.\n",
        "# Again, people traveling alone are less likely to survive than those with 1-3 parents or children.\n",
        "\n",
        "#4.E)Age Feature\n",
        "\n",
        "\n",
        "\n",
        "#sort the ages into logical categories\n",
        "train[\"Age\"] = train[\"Age\"].fillna(-0.5)\n",
        "test[\"Age\"] = test[\"Age\"].fillna(-0.5)\n",
        "\n",
        "bins =   [-1, 0, 5, 12, 18, 24, 35, 60, np.inf]\n",
        "labels = ['Unknown', 'Baby', 'Child', 'Teenager', 'Student', 'Young Adult', 'Adult', 'Senior']\n",
        "train['AgeGroup'] = pd.cut(train[\"Age\"], bins, labels = labels)\n",
        "test['AgeGroup'] = pd.cut(test[\"Age\"], bins, labels = labels)\n",
        "print( train.head()  )\n",
        "#draw a bar plot of Age vs. survival\n",
        "sbn.barplot(x=\"AgeGroup\", y=\"Survived\", data=train)\n",
        "plt.show()\n",
        "\n",
        "#Done"
      ],
      "execution_count": 22,
      "outputs": [
        {
          "output_type": "stream",
          "text": [
            "   PassengerId  Survived  Pclass                                               Name     Sex   Age  SibSp  Parch            Ticket   Fare Cabin Embarked     AgeGroup\n",
            "0            1         0       3                            Braund, Mr. Owen Harris    male  22.0      1      0         A/5 21171   7.25   NaN        S      Student\n",
            "1            2         1       1  Cumings, Mrs. John Bradley (Florence Briggs Th...  female  38.0      1      0          PC 17599  71.28   C85        C        Adult\n",
            "2            3         1       3                             Heikkinen, Miss. Laina  female  26.0      0      0  STON/O2. 3101282   7.92   NaN        S  Young Adult\n",
            "3            4         1       1       Futrelle, Mrs. Jacques Heath (Lily May Peel)  female  35.0      1      0            113803  53.10  C123        S  Young Adult\n",
            "4            5         0       3                           Allen, Mr. William Henry    male  35.0      0      0            373450   8.05   NaN        S  Young Adult\n"
          ],
          "name": "stdout"
        },
        {
          "output_type": "display_data",
          "data": {
            "image/png": "[encoded data removed]",
            "text/plain": [
              "<Figure size 432x288 with 1 Axes>"
            ]
          },
          "metadata": {
            "tags": [],
            "needs_background": "light"
          }
        }
      ]
    },
    {
      "cell_type": "code",
      "metadata": {
        "id": "-mPIfQhsr--C",
        "colab_type": "code",
        "colab": {
          "base_uri": "https://localhost:8080/",
          "height": 145
        },
        "outputId": "b9987a1d-bd51-47b1-b7cc-1fbc84a26adf"
      },
      "source": [
        "#Some Observations from above output\n",
        "\n",
        "#Babies are more likely to survive than any other age group.\n",
        "\n",
        "\n",
        "#4.F) Cabin Feature\n",
        "\n",
        "\n",
        "#I think the idea here is that people with recorded cabin numbers are of higher socioeconomic class,\n",
        "#  and thus more likely to survive.\n",
        "\n",
        "train[\"CabinBool\"] = (train[\"Cabin\"].notnull().astype('int'))\n",
        "test[\"CabinBool\"] = (test[\"Cabin\"].notnull().astype('int'))\n",
        "\n",
        "#print( \"###################################\\n\\n\"  )\n",
        "print( train.head()  )"
      ],
      "execution_count": 23,
      "outputs": [
        {
          "output_type": "stream",
          "text": [
            "   PassengerId  Survived  Pclass                                               Name     Sex   Age  SibSp  Parch            Ticket   Fare Cabin Embarked     AgeGroup  CabinBool\n",
            "0            1         0       3                            Braund, Mr. Owen Harris    male  22.0      1      0         A/5 21171   7.25   NaN        S      Student          0\n",
            "1            2         1       1  Cumings, Mrs. John Bradley (Florence Briggs Th...  female  38.0      1      0          PC 17599  71.28   C85        C        Adult          1\n",
            "2            3         1       3                             Heikkinen, Miss. Laina  female  26.0      0      0  STON/O2. 3101282   7.92   NaN        S  Young Adult          0\n",
            "3            4         1       1       Futrelle, Mrs. Jacques Heath (Lily May Peel)  female  35.0      1      0            113803  53.10  C123        S  Young Adult          1\n",
            "4            5         0       3                           Allen, Mr. William Henry    male  35.0      0      0            373450   8.05   NaN        S  Young Adult          0\n"
          ],
          "name": "stdout"
        }
      ]
    },
    {
      "cell_type": "code",
      "metadata": {
        "id": "jVwnvV9xs9ML",
        "colab_type": "code",
        "colab": {
          "base_uri": "https://localhost:8080/",
          "height": 315
        },
        "outputId": "f4461249-05a4-4d2d-d76f-9abda208b50f"
      },
      "source": [
        "#calculate percentages of CabinBool vs. survived\n",
        "print(\"Percentage of CabinBool = 1 who survived:\",\n",
        "      train[\"Survived\"][train[\"CabinBool\"] == 1].value_counts(\n",
        "                                     normalize = True)[1]*100)\n",
        "\n",
        "print(\"Percentage of CabinBool = 0 who survived:\",\n",
        "      train[\"Survived\"][train[\"CabinBool\"] == 0].value_counts(\n",
        "                                     normalize = True)[1]*100)\n",
        "#draw a bar plot of CabinBool vs. survival\n",
        "sbn.barplot(x=\"CabinBool\", y=\"Survived\", data=train)\n",
        "plt.show()"
      ],
      "execution_count": 24,
      "outputs": [
        {
          "output_type": "stream",
          "text": [
            "Percentage of CabinBool = 1 who survived: 66.66666666666666\n",
            "Percentage of CabinBool = 0 who survived: 29.985443959243085\n"
          ],
          "name": "stdout"
        },
        {
          "output_type": "display_data",
          "data": {
            "image/png": "[encoded data removed]",
            "text/plain": [
              "<Figure size 432x288 with 1 Axes>"
            ]
          },
          "metadata": {
            "tags": [],
            "needs_background": "light"
          }
        }
      ]
    },
    {
      "cell_type": "code",
      "metadata": {
        "id": "YLlz5TkgtMmm",
        "colab_type": "code",
        "colab": {
          "base_uri": "https://localhost:8080/",
          "height": 253
        },
        "outputId": "2ce3ac56-bd30-48b9-a5e4-8f5381473ab7"
      },
      "source": [
        "#Some Observations from above output\n",
        "\n",
        "#People with a recorded Cabin number are, in fact,\n",
        "#more likely to survive. (66.6% vs 29.9%)\n",
        "\n",
        "#5) Cleaning Data\n",
        "\n",
        "\n",
        "#Time to clean our data to account for missing values and unnecessary information!\n",
        "\n",
        "#Looking at the Test Data\n",
        "#Let's see how our test data looks!\n",
        "\n",
        "print( test.describe(include=\"all\")  )"
      ],
      "execution_count": 25,
      "outputs": [
        {
          "output_type": "stream",
          "text": [
            "        PassengerId  Pclass                                          Name   Sex     Age   SibSp   Parch    Ticket    Fare            Cabin Embarked     AgeGroup  CabinBool\n",
            "count        418.00  418.00                                           418   418  418.00  418.00  418.00       418  417.00               91      418          418     418.00\n",
            "unique          NaN     NaN                                           418     2     NaN     NaN     NaN       363     NaN               76        3            8        NaN\n",
            "top             NaN     NaN  Nourney, Mr. Alfred (Baron von Drachstedt\")\"  male     NaN     NaN     NaN  PC 17608     NaN  B57 B59 B63 B66        S  Young Adult        NaN\n",
            "freq            NaN     NaN                                             1   266     NaN     NaN     NaN         5     NaN                3      270           96        NaN\n",
            "mean        1100.50    2.27                                           NaN   NaN   23.94    0.45    0.39       NaN   35.63              NaN      NaN          NaN       0.22\n",
            "std          120.81    0.84                                           NaN   NaN   17.74    0.90    0.98       NaN   55.91              NaN      NaN          NaN       0.41\n",
            "min          892.00    1.00                                           NaN   NaN   -0.50    0.00    0.00       NaN    0.00              NaN      NaN          NaN       0.00\n",
            "25%          996.25    1.00                                           NaN   NaN    9.00    0.00    0.00       NaN    7.90              NaN      NaN          NaN       0.00\n",
            "50%         1100.50    3.00                                           NaN   NaN   24.00    0.00    0.00       NaN   14.45              NaN      NaN          NaN       0.00\n",
            "75%         1204.75    3.00                                           NaN   NaN   35.75    1.00    0.00       NaN   31.50              NaN      NaN          NaN       0.00\n",
            "max         1309.00    3.00                                           NaN   NaN   76.00    8.00    9.00       NaN  512.33              NaN      NaN          NaN       1.00\n"
          ],
          "name": "stdout"
        }
      ]
    },
    {
      "cell_type": "code",
      "metadata": {
        "id": "bdDe9zUStV2G",
        "colab_type": "code",
        "colab": {
          "base_uri": "https://localhost:8080/",
          "height": 197
        },
        "outputId": "b680f806-fd03-4458-e261-6952ec5b2200"
      },
      "source": [
        "#Some Observations from above output for test.csv data\n",
        "\n",
        "#1) We have a total of 418 passengers.\n",
        "#2) 1 value from the Fare feature is missing.\n",
        "#3) Around 20.5% of the Age feature is missing in training file\n",
        "#4) we will need to fill that in.\n",
        "\n",
        "#Cabin Feature\n",
        "#we'll start off by dropping the Cabin feature since not a lot more useful information can be extracted from it.\n",
        "train = train.drop(['Cabin'], axis = 1)\n",
        "test = test.drop( ['Cabin'], axis = 1)\n",
        "\n",
        "#Ticket Feature\n",
        "#we can also drop the Ticket feature since it's unlikely to yield any useful information\n",
        "train = train.drop(['Ticket'], axis = 1)\n",
        "test = test.drop(['Ticket'], axis = 1)\n",
        "\n",
        "\n",
        "\n",
        "#Embarked Feature\n",
        "#now we need to fill in the missing values in the Embarked feature\n",
        "print( \"Number of people embarking in Southampton (S):\" ,  )\n",
        "\n",
        "\n",
        "print( \"\\n\\nSHAPE = \" , train[train[\"Embarked\"] == \"S\"].shape  )\n",
        "print( \"SHAPE[0] = \" , train[train[\"Embarked\"] == \"S\"].shape[0]  )\n",
        "\n",
        "\n",
        "southampton = train[train[\"Embarked\"] == \"S\"].shape[0]\n",
        "print( southampton  )\n",
        "\n",
        "\n",
        "print( \"Number of people embarking in Cherbourg (C):\" ,  )\n",
        "cherbourg = train[train[\"Embarked\"] == \"C\"].shape[0]\n",
        "print( cherbourg  )\n",
        "\n",
        "print( \"Number of people embarking in Queenstown (Q):\" ,  )\n",
        "queenstown = train[train[\"Embarked\"] == \"Q\"].shape[0]\n",
        "print( queenstown  )\n",
        "\n",
        "\n",
        "#It's clear that the majority of people embarked in Southampton (S).\n",
        "# Let's go ahead and fill in the missing values with S.\n",
        "\n",
        "#replacing the missing values in the Embarked feature with S\n",
        "train = train.fillna({\"Embarked\": \"S\"})"
      ],
      "execution_count": 26,
      "outputs": [
        {
          "output_type": "stream",
          "text": [
            "Number of people embarking in Southampton (S):\n",
            "\n",
            "\n",
            "SHAPE =  (644, 12)\n",
            "SHAPE[0] =  644\n",
            "644\n",
            "Number of people embarking in Cherbourg (C):\n",
            "168\n",
            "Number of people embarking in Queenstown (Q):\n",
            "77\n"
          ],
          "name": "stdout"
        }
      ]
    },
    {
      "cell_type": "code",
      "metadata": {
        "id": "9JAfm9PIT8SK",
        "colab_type": "code",
        "colab": {
          "base_uri": "https://localhost:8080/",
          "height": 1000
        },
        "outputId": "2d53e440-b3ec-46c8-f9b3-61d1af8c0717"
      },
      "source": [
        "#Age Feature\n",
        "#Next we'll fill in the missing values in the Age feature.\n",
        "# Since a higher percentage of values are missing,\n",
        "# it would be illogical to fill all of them with the same value (as we did with Embarked).\n",
        "# Instead, let's try to find a way to predict the missing ages.\n",
        "\n",
        "#create a combined group of both datasets\n",
        "combine = [train, test]\n",
        "print( combine[0]  )\n",
        "\n",
        "\n",
        "#extract a title for each Name in the train and test datasets\n",
        "for dataset in combine:\n",
        "    dataset['Title'] = dataset['Name'].str.extract(', ([A-Za-z]+)\\.', expand=False)\n",
        "\n",
        "\n",
        "\n",
        "print( \"\\n\\n~~~~~~~~~~~~~~~~~~~~~~~~~~~~~~~~~~~~~~~~~~~~~~~~~~~~~~\\n\\n\"  )\n",
        "print( train.head()  )\n",
        "print()\n",
        "print( pd.crosstab(train['Title'], train['Sex'] )    )\n",
        "\n",
        "\n",
        "# replace various titles with more common names\n",
        "for dataset in combine:\n",
        "    dataset['Title'] = dataset['Title'].replace(\n",
        "       ['Lady', 'Capt', 'Col','Don', 'Dr', 'Major', 'Rev', 'Jonkheer', 'Dona'],\n",
        "        'Rare')\n",
        "\n",
        "    dataset['Title'] = dataset['Title'].replace(['Countess', 'Sir'], 'Royal')\n",
        "    dataset['Title'] = dataset['Title'].replace('Mlle', 'Miss')\n",
        "    dataset['Title'] = dataset['Title'].replace('Ms', 'Miss')\n",
        "    dataset['Title'] = dataset['Title'].replace('Mme', 'Mrs')\n",
        "\n",
        "print( \"\\n\\nAfter grouping rare title : \\n\" , train  )\n",
        "\n",
        "\n",
        "print( train[['Title', 'Survived']].groupby(['Title'],\n",
        "                                    as_index=True).count()  )\n",
        "\n",
        "\n",
        "print( \"\\nMap each of the title groups to a numerical value.\"  )\n",
        "title_mapping = {\"Mr\": 1, \"Miss\": 2, \"Mrs\": 3, \"Master\": 4, \"Royal\": 5, \"Rare\": 6}\n",
        "\n",
        "for dataset in combine:\n",
        "    dataset['Title'] = dataset['Title'].map(title_mapping)\n",
        "    dataset['Title'] = dataset['Title'].fillna(0)\n",
        "\n",
        "\n",
        "print( \"\\n\\nAfter replacing title with neumeric values.\\n\"  )\n",
        "print( train.head()  )\n",
        "#NOTICE the values of last newly added column 'Title'"
      ],
      "execution_count": 27,
      "outputs": [
        {
          "output_type": "stream",
          "text": [
            "     PassengerId  Survived  Pclass                                               Name     Sex   Age  SibSp  Parch   Fare Embarked     AgeGroup  CabinBool\n",
            "0              1         0       3                            Braund, Mr. Owen Harris    male  22.0      1      0   7.25        S      Student          0\n",
            "1              2         1       1  Cumings, Mrs. John Bradley (Florence Briggs Th...  female  38.0      1      0  71.28        C        Adult          1\n",
            "2              3         1       3                             Heikkinen, Miss. Laina  female  26.0      0      0   7.92        S  Young Adult          0\n",
            "3              4         1       1       Futrelle, Mrs. Jacques Heath (Lily May Peel)  female  35.0      1      0  53.10        S  Young Adult          1\n",
            "4              5         0       3                           Allen, Mr. William Henry    male  35.0      0      0   8.05        S  Young Adult          0\n",
            "..           ...       ...     ...                                                ...     ...   ...    ...    ...    ...      ...          ...        ...\n",
            "886          887         0       2                              Montvila, Rev. Juozas    male  27.0      0      0  13.00        S  Young Adult          0\n",
            "887          888         1       1                       Graham, Miss. Margaret Edith  female  19.0      0      0  30.00        S      Student          1\n",
            "888          889         0       3           Johnston, Miss. Catherine Helen \"Carrie\"  female  -0.5      1      2  23.45        S      Unknown          0\n",
            "889          890         1       1                              Behr, Mr. Karl Howell    male  26.0      0      0  30.00        C  Young Adult          1\n",
            "890          891         0       3                                Dooley, Mr. Patrick    male  32.0      0      0   7.75        Q  Young Adult          0\n",
            "\n",
            "[891 rows x 12 columns]\n",
            "\n",
            "\n",
            "~~~~~~~~~~~~~~~~~~~~~~~~~~~~~~~~~~~~~~~~~~~~~~~~~~~~~~\n",
            "\n",
            "\n",
            "   PassengerId  Survived  Pclass                                               Name     Sex   Age  SibSp  Parch   Fare Embarked     AgeGroup  CabinBool Title\n",
            "0            1         0       3                            Braund, Mr. Owen Harris    male  22.0      1      0   7.25        S      Student          0    Mr\n",
            "1            2         1       1  Cumings, Mrs. John Bradley (Florence Briggs Th...  female  38.0      1      0  71.28        C        Adult          1   Mrs\n",
            "2            3         1       3                             Heikkinen, Miss. Laina  female  26.0      0      0   7.92        S  Young Adult          0  Miss\n",
            "3            4         1       1       Futrelle, Mrs. Jacques Heath (Lily May Peel)  female  35.0      1      0  53.10        S  Young Adult          1   Mrs\n",
            "4            5         0       3                           Allen, Mr. William Henry    male  35.0      0      0   8.05        S  Young Adult          0    Mr\n",
            "\n",
            "Sex       female  male\n",
            "Title                 \n",
            "Capt           0     1\n",
            "Col            0     2\n",
            "Don            0     1\n",
            "Dr             1     6\n",
            "Jonkheer       0     1\n",
            "Lady           1     0\n",
            "Major          0     2\n",
            "Master         0    40\n",
            "Miss         182     0\n",
            "Mlle           2     0\n",
            "Mme            1     0\n",
            "Mr             0   517\n",
            "Mrs          125     0\n",
            "Ms             1     0\n",
            "Rev            0     6\n",
            "Sir            0     1\n",
            "\n",
            "\n",
            "After grouping rare title : \n",
            "      PassengerId  Survived  Pclass                                               Name     Sex   Age  SibSp  Parch   Fare Embarked     AgeGroup  CabinBool Title\n",
            "0              1         0       3                            Braund, Mr. Owen Harris    male  22.0      1      0   7.25        S      Student          0    Mr\n",
            "1              2         1       1  Cumings, Mrs. John Bradley (Florence Briggs Th...  female  38.0      1      0  71.28        C        Adult          1   Mrs\n",
            "2              3         1       3                             Heikkinen, Miss. Laina  female  26.0      0      0   7.92        S  Young Adult          0  Miss\n",
            "3              4         1       1       Futrelle, Mrs. Jacques Heath (Lily May Peel)  female  35.0      1      0  53.10        S  Young Adult          1   Mrs\n",
            "4              5         0       3                           Allen, Mr. William Henry    male  35.0      0      0   8.05        S  Young Adult          0    Mr\n",
            "..           ...       ...     ...                                                ...     ...   ...    ...    ...    ...      ...          ...        ...   ...\n",
            "886          887         0       2                              Montvila, Rev. Juozas    male  27.0      0      0  13.00        S  Young Adult          0  Rare\n",
            "887          888         1       1                       Graham, Miss. Margaret Edith  female  19.0      0      0  30.00        S      Student          1  Miss\n",
            "888          889         0       3           Johnston, Miss. Catherine Helen \"Carrie\"  female  -0.5      1      2  23.45        S      Unknown          0  Miss\n",
            "889          890         1       1                              Behr, Mr. Karl Howell    male  26.0      0      0  30.00        C  Young Adult          1    Mr\n",
            "890          891         0       3                                Dooley, Mr. Patrick    male  32.0      0      0   7.75        Q  Young Adult          0    Mr\n",
            "\n",
            "[891 rows x 13 columns]\n",
            "        Survived\n",
            "Title           \n",
            "Master        40\n",
            "Miss         185\n",
            "Mr           517\n",
            "Mrs          126\n",
            "Rare          21\n",
            "Royal          1\n",
            "\n",
            "Map each of the title groups to a numerical value.\n",
            "\n",
            "\n",
            "After replacing title with neumeric values.\n",
            "\n",
            "   PassengerId  Survived  Pclass                                               Name     Sex   Age  SibSp  Parch   Fare Embarked     AgeGroup  CabinBool  Title\n",
            "0            1         0       3                            Braund, Mr. Owen Harris    male  22.0      1      0   7.25        S      Student          0    1.0\n",
            "1            2         1       1  Cumings, Mrs. John Bradley (Florence Briggs Th...  female  38.0      1      0  71.28        C        Adult          1    3.0\n",
            "2            3         1       3                             Heikkinen, Miss. Laina  female  26.0      0      0   7.92        S  Young Adult          0    2.0\n",
            "3            4         1       1       Futrelle, Mrs. Jacques Heath (Lily May Peel)  female  35.0      1      0  53.10        S  Young Adult          1    3.0\n",
            "4            5         0       3                           Allen, Mr. William Henry    male  35.0      0      0   8.05        S  Young Adult          0    1.0\n"
          ],
          "name": "stdout"
        }
      ]
    },
    {
      "cell_type": "code",
      "metadata": {
        "id": "QQc0ME4IUiG4",
        "colab_type": "code",
        "colab": {
          "base_uri": "https://localhost:8080/",
          "height": 1000
        },
        "outputId": "a79ee256-ee16-4108-f3bf-08d813c7ca65"
      },
      "source": [
        "#Next, we'll try to predict the missing Age values from the most common age for their Title.\n",
        "\n",
        "# fill missing age with mode age group for each title\n",
        "mr_age = train[train[\"Title\"] == 1][\"AgeGroup\"].mode() # Mr.= Young Adult\n",
        "print( \"mode() of mr_age : \", mr_age    )\n",
        "\n",
        "print( \"\\n\\n\"  )\n",
        "\n",
        "miss_age = train[train[\"Title\"] == 2][\"AgeGroup\"].mode()  #Miss.= Student\n",
        "print( \"mode() of miss_age : \", miss_age  )\n",
        "print( \"\\n\\n\"  )\n",
        "\n",
        "mrs_age = train[train[\"Title\"] == 3][\"AgeGroup\"].mode() #Mrs.= Adult\n",
        "print( \"mode() of mrs_age : \", mrs_age  )\n",
        "print( \"\\n\\n\"  )\n",
        "\n",
        "master_age = train[train[\"Title\"] == 4][\"AgeGroup\"].mode() # Baby\n",
        "print( \"mode() of master_age : \", master_age  )\n",
        "print( \"\\n\\n\"  )\n",
        "\n",
        "royal_age = train[train[\"Title\"] == 5][\"AgeGroup\"].mode() # Adult\n",
        "print( \"mode() of royal_age : \", royal_age  )\n",
        "print( \"\\n\\n\"  )\n",
        "\n",
        "rare_age = train[train[\"Title\"] == 6][\"AgeGroup\"].mode()  # Adult\n",
        "print( \"mode() of rare_age : \", rare_age  )\n",
        "\n",
        "\n",
        "\n",
        "print( \"\\n\\n**************************************************\\n\\n\"  )\n",
        "print( train.describe(include=\"all\")  )\n",
        "print( train  )\n",
        "\n",
        "\n",
        "\n",
        "\n",
        "print( \"\\n\\n********   train[AgeGroup][0] :  \\n\\n\"  )\n",
        "\n",
        "for x in range(10) :\n",
        "    print( train[\"AgeGroup\"][x]  )\n",
        "\n",
        "\n",
        "age_title_mapping = {1: \"Young Adult\", 2: \"Student\",\n",
        "                3: \"Adult\", 4: \"Baby\", 5: \"Adult\", 6: \"Adult\"}\n",
        "\n",
        "for x in range(len(train[\"AgeGroup\"])):\n",
        "    if train[\"AgeGroup\"][x] == \"Unknown\":   # x=5 ( means for 6th record )\n",
        "        train[\"AgeGroup\"][x] = age_title_mapping[  train[\"Title\"][x]  ]\n",
        "\n",
        "for x in range(len(test[\"AgeGroup\"])):\n",
        "    if test[\"AgeGroup\"][x] == \"Unknown\":\n",
        "        test[\"AgeGroup\"][x] = age_title_mapping[test[\"Title\"][x]]\n",
        "\n",
        "\n",
        "\n",
        "\n",
        "\n",
        "\n",
        "print( \"\\n\\nAfter replacing Unknown values from AgeGroup column : \\n\"  )\n",
        "print( train  )\n",
        "\n",
        "\n",
        "\n",
        "#Now that we've filled in the missing values at least somewhat accurately,\n",
        "# it is time to map each age group to a numerical value.\n",
        "# map each Age value to a numerical value\n",
        "age_mapping = {'Baby': 1, 'Child': 2, 'Teenager': 3,\n",
        "               'Student': 4, 'Young Adult': 5,\n",
        "               'Adult': 6, 'Senior': 7}\n",
        "\n",
        "train['AgeGroup'] = train['AgeGroup'].map(age_mapping)\n",
        "test['AgeGroup'] = test['AgeGroup'].map(age_mapping)\n",
        "print()\n",
        "print( train  )\n",
        "\n",
        "\n",
        "# dropping the Age feature for now, might change\n",
        "train = train.drop(['Age'], axis=1)\n",
        "test = test.drop(['Age'], axis=1)\n",
        "\n",
        "print( \"\\n\\nAge column droped.\"  )\n",
        "print( train  )"
      ],
      "execution_count": 28,
      "outputs": [
        {
          "output_type": "stream",
          "text": [
            "mode() of mr_age :  0    Young Adult\n",
            "Name: AgeGroup, dtype: category\n",
            "Categories (8, object): [Unknown < Baby < Child < Teenager < Student < Young Adult < Adult < Senior]\n",
            "\n",
            "\n",
            "\n",
            "mode() of miss_age :  0    Unknown\n",
            "Name: AgeGroup, dtype: category\n",
            "Categories (8, object): [Unknown < Baby < Child < Teenager < Student < Young Adult < Adult < Senior]\n",
            "\n",
            "\n",
            "\n",
            "mode() of mrs_age :  0    Adult\n",
            "Name: AgeGroup, dtype: category\n",
            "Categories (8, object): [Unknown < Baby < Child < Teenager < Student < Young Adult < Adult < Senior]\n",
            "\n",
            "\n",
            "\n",
            "mode() of master_age :  0    Baby\n",
            "Name: AgeGroup, dtype: category\n",
            "Categories (8, object): [Unknown < Baby < Child < Teenager < Student < Young Adult < Adult < Senior]\n",
            "\n",
            "\n",
            "\n",
            "mode() of royal_age :  0    Adult\n",
            "Name: AgeGroup, dtype: category\n",
            "Categories (8, object): [Unknown < Baby < Child < Teenager < Student < Young Adult < Adult < Senior]\n",
            "\n",
            "\n",
            "\n",
            "mode() of rare_age :  0    Adult\n",
            "Name: AgeGroup, dtype: category\n",
            "Categories (8, object): [Unknown < Baby < Child < Teenager < Student < Young Adult < Adult < Senior]\n",
            "\n",
            "\n",
            "**************************************************\n",
            "\n",
            "\n",
            "        PassengerId  Survived  Pclass                                      Name   Sex     Age   SibSp   Parch    Fare Embarked     AgeGroup  CabinBool   Title\n",
            "count        891.00    891.00  891.00                                       891   891  891.00  891.00  891.00  891.00      891          891     891.00  891.00\n",
            "unique          NaN       NaN     NaN                                       891     2     NaN     NaN     NaN     NaN        3            8        NaN     NaN\n",
            "top             NaN       NaN     NaN  Navratil, Mr. Michel (\"Louis M Hoffman\")  male     NaN     NaN     NaN     NaN        S  Young Adult        NaN     NaN\n",
            "freq            NaN       NaN     NaN                                         1   577     NaN     NaN     NaN     NaN      646          220        NaN     NaN\n",
            "mean         446.00      0.38    2.31                                       NaN   NaN   23.70    0.52    0.38   32.20      NaN          NaN       0.23    1.75\n",
            "std          257.35      0.49    0.84                                       NaN   NaN   17.73    1.10    0.81   49.69      NaN          NaN       0.42    1.11\n",
            "min            1.00      0.00    1.00                                       NaN   NaN   -0.50    0.00    0.00    0.00      NaN          NaN       0.00    0.00\n",
            "25%          223.50      0.00    2.00                                       NaN   NaN    6.00    0.00    0.00    7.91      NaN          NaN       0.00    1.00\n",
            "50%          446.00      0.00    3.00                                       NaN   NaN   24.00    0.00    0.00   14.45      NaN          NaN       0.00    1.00\n",
            "75%          668.50      1.00    3.00                                       NaN   NaN   35.00    1.00    0.00   31.00      NaN          NaN       0.00    2.00\n",
            "max          891.00      1.00    3.00                                       NaN   NaN   80.00    8.00    6.00  512.33      NaN          NaN       1.00    6.00\n",
            "     PassengerId  Survived  Pclass                                               Name     Sex   Age  SibSp  Parch   Fare Embarked     AgeGroup  CabinBool  Title\n",
            "0              1         0       3                            Braund, Mr. Owen Harris    male  22.0      1      0   7.25        S      Student          0    1.0\n",
            "1              2         1       1  Cumings, Mrs. John Bradley (Florence Briggs Th...  female  38.0      1      0  71.28        C        Adult          1    3.0\n",
            "2              3         1       3                             Heikkinen, Miss. Laina  female  26.0      0      0   7.92        S  Young Adult          0    2.0\n",
            "3              4         1       1       Futrelle, Mrs. Jacques Heath (Lily May Peel)  female  35.0      1      0  53.10        S  Young Adult          1    3.0\n",
            "4              5         0       3                           Allen, Mr. William Henry    male  35.0      0      0   8.05        S  Young Adult          0    1.0\n",
            "..           ...       ...     ...                                                ...     ...   ...    ...    ...    ...      ...          ...        ...    ...\n",
            "886          887         0       2                              Montvila, Rev. Juozas    male  27.0      0      0  13.00        S  Young Adult          0    6.0\n",
            "887          888         1       1                       Graham, Miss. Margaret Edith  female  19.0      0      0  30.00        S      Student          1    2.0\n",
            "888          889         0       3           Johnston, Miss. Catherine Helen \"Carrie\"  female  -0.5      1      2  23.45        S      Unknown          0    2.0\n",
            "889          890         1       1                              Behr, Mr. Karl Howell    male  26.0      0      0  30.00        C  Young Adult          1    1.0\n",
            "890          891         0       3                                Dooley, Mr. Patrick    male  32.0      0      0   7.75        Q  Young Adult          0    1.0\n",
            "\n",
            "[891 rows x 13 columns]\n",
            "\n",
            "\n",
            "********   train[AgeGroup][0] :  \n",
            "\n",
            "\n",
            "Student\n",
            "Adult\n",
            "Young Adult\n",
            "Young Adult\n",
            "Young Adult\n",
            "Unknown\n",
            "Adult\n",
            "Baby\n",
            "Young Adult\n",
            "Teenager\n",
            "\n",
            "\n",
            "After replacing Unknown values from AgeGroup column : \n",
            "\n",
            "     PassengerId  Survived  Pclass                                               Name     Sex   Age  SibSp  Parch   Fare Embarked     AgeGroup  CabinBool  Title\n",
            "0              1         0       3                            Braund, Mr. Owen Harris    male  22.0      1      0   7.25        S      Student          0    1.0\n",
            "1              2         1       1  Cumings, Mrs. John Bradley (Florence Briggs Th...  female  38.0      1      0  71.28        C        Adult          1    3.0\n",
            "2              3         1       3                             Heikkinen, Miss. Laina  female  26.0      0      0   7.92        S  Young Adult          0    2.0\n",
            "3              4         1       1       Futrelle, Mrs. Jacques Heath (Lily May Peel)  female  35.0      1      0  53.10        S  Young Adult          1    3.0\n",
            "4              5         0       3                           Allen, Mr. William Henry    male  35.0      0      0   8.05        S  Young Adult          0    1.0\n",
            "..           ...       ...     ...                                                ...     ...   ...    ...    ...    ...      ...          ...        ...    ...\n",
            "886          887         0       2                              Montvila, Rev. Juozas    male  27.0      0      0  13.00        S  Young Adult          0    6.0\n",
            "887          888         1       1                       Graham, Miss. Margaret Edith  female  19.0      0      0  30.00        S      Student          1    2.0\n",
            "888          889         0       3           Johnston, Miss. Catherine Helen \"Carrie\"  female  -0.5      1      2  23.45        S      Student          0    2.0\n",
            "889          890         1       1                              Behr, Mr. Karl Howell    male  26.0      0      0  30.00        C  Young Adult          1    1.0\n",
            "890          891         0       3                                Dooley, Mr. Patrick    male  32.0      0      0   7.75        Q  Young Adult          0    1.0\n",
            "\n",
            "[891 rows x 13 columns]\n",
            "\n",
            "     PassengerId  Survived  Pclass                                               Name     Sex   Age  SibSp  Parch   Fare Embarked  AgeGroup  CabinBool  Title\n",
            "0              1         0       3                            Braund, Mr. Owen Harris    male  22.0      1      0   7.25        S       4.0          0    1.0\n",
            "1              2         1       1  Cumings, Mrs. John Bradley (Florence Briggs Th...  female  38.0      1      0  71.28        C       6.0          1    3.0\n",
            "2              3         1       3                             Heikkinen, Miss. Laina  female  26.0      0      0   7.92        S       5.0          0    2.0\n",
            "3              4         1       1       Futrelle, Mrs. Jacques Heath (Lily May Peel)  female  35.0      1      0  53.10        S       5.0          1    3.0\n",
            "4              5         0       3                           Allen, Mr. William Henry    male  35.0      0      0   8.05        S       5.0          0    1.0\n",
            "..           ...       ...     ...                                                ...     ...   ...    ...    ...    ...      ...       ...        ...    ...\n",
            "886          887         0       2                              Montvila, Rev. Juozas    male  27.0      0      0  13.00        S       5.0          0    6.0\n",
            "887          888         1       1                       Graham, Miss. Margaret Edith  female  19.0      0      0  30.00        S       4.0          1    2.0\n",
            "888          889         0       3           Johnston, Miss. Catherine Helen \"Carrie\"  female  -0.5      1      2  23.45        S       4.0          0    2.0\n",
            "889          890         1       1                              Behr, Mr. Karl Howell    male  26.0      0      0  30.00        C       5.0          1    1.0\n",
            "890          891         0       3                                Dooley, Mr. Patrick    male  32.0      0      0   7.75        Q       5.0          0    1.0\n",
            "\n",
            "[891 rows x 13 columns]\n",
            "\n",
            "\n",
            "Age column droped.\n",
            "     PassengerId  Survived  Pclass                                               Name     Sex  SibSp  Parch   Fare Embarked  AgeGroup  CabinBool  Title\n",
            "0              1         0       3                            Braund, Mr. Owen Harris    male      1      0   7.25        S       4.0          0    1.0\n",
            "1              2         1       1  Cumings, Mrs. John Bradley (Florence Briggs Th...  female      1      0  71.28        C       6.0          1    3.0\n",
            "2              3         1       3                             Heikkinen, Miss. Laina  female      0      0   7.92        S       5.0          0    2.0\n",
            "3              4         1       1       Futrelle, Mrs. Jacques Heath (Lily May Peel)  female      1      0  53.10        S       5.0          1    3.0\n",
            "4              5         0       3                           Allen, Mr. William Henry    male      0      0   8.05        S       5.0          0    1.0\n",
            "..           ...       ...     ...                                                ...     ...    ...    ...    ...      ...       ...        ...    ...\n",
            "886          887         0       2                              Montvila, Rev. Juozas    male      0      0  13.00        S       5.0          0    6.0\n",
            "887          888         1       1                       Graham, Miss. Margaret Edith  female      0      0  30.00        S       4.0          1    2.0\n",
            "888          889         0       3           Johnston, Miss. Catherine Helen \"Carrie\"  female      1      2  23.45        S       4.0          0    2.0\n",
            "889          890         1       1                              Behr, Mr. Karl Howell    male      0      0  30.00        C       5.0          1    1.0\n",
            "890          891         0       3                                Dooley, Mr. Patrick    male      0      0   7.75        Q       5.0          0    1.0\n",
            "\n",
            "[891 rows x 12 columns]\n"
          ],
          "name": "stdout"
        }
      ]
    },
    {
      "cell_type": "code",
      "metadata": {
        "id": "QnUAhILMU2di",
        "colab_type": "code",
        "colab": {
          "base_uri": "https://localhost:8080/",
          "height": 269
        },
        "outputId": "755d1418-50f3-4eea-e54f-99bd3b37dfa4"
      },
      "source": [
        "#Name Feature\n",
        "#We can drop the name feature now that we've extracted the titles.\n",
        "\n",
        "#drop the name feature since it contains no more useful information.\n",
        "train = train.drop(['Name'], axis = 1)\n",
        "test = test.drop(['Name'], axis = 1)\n",
        "\n",
        "\n",
        "#Sex Feature\n",
        "#map each Sex value to a numerical value\n",
        "sex_mapping = {\"male\": 0, \"female\": 1}\n",
        "train['Sex'] = train['Sex'].map(sex_mapping)\n",
        "test['Sex'] = test['Sex'].map(sex_mapping)\n",
        "\n",
        "print( train  )"
      ],
      "execution_count": 29,
      "outputs": [
        {
          "output_type": "stream",
          "text": [
            "     PassengerId  Survived  Pclass  Sex  SibSp  Parch   Fare Embarked  AgeGroup  CabinBool  Title\n",
            "0              1         0       3    0      1      0   7.25        S       4.0          0    1.0\n",
            "1              2         1       1    1      1      0  71.28        C       6.0          1    3.0\n",
            "2              3         1       3    1      0      0   7.92        S       5.0          0    2.0\n",
            "3              4         1       1    1      1      0  53.10        S       5.0          1    3.0\n",
            "4              5         0       3    0      0      0   8.05        S       5.0          0    1.0\n",
            "..           ...       ...     ...  ...    ...    ...    ...      ...       ...        ...    ...\n",
            "886          887         0       2    0      0      0  13.00        S       5.0          0    6.0\n",
            "887          888         1       1    1      0      0  30.00        S       4.0          1    2.0\n",
            "888          889         0       3    1      1      2  23.45        S       4.0          0    2.0\n",
            "889          890         1       1    0      0      0  30.00        C       5.0          1    1.0\n",
            "890          891         0       3    0      0      0   7.75        Q       5.0          0    1.0\n",
            "\n",
            "[891 rows x 11 columns]\n"
          ],
          "name": "stdout"
        }
      ]
    },
    {
      "cell_type": "code",
      "metadata": {
        "id": "gNXfcd9UU61H",
        "colab_type": "code",
        "colab": {
          "base_uri": "https://localhost:8080/",
          "height": 143
        },
        "outputId": "ff291651-bb04-48ba-f729-51525edca422"
      },
      "source": [
        "#Embarked Feature\n",
        "#map each Embarked value to a numerical value\n",
        "embarked_mapping = {\"S\": 1, \"C\": 2, \"Q\": 3}\n",
        "train['Embarked'] = train['Embarked'].map(embarked_mapping)\n",
        "test['Embarked'] = test['Embarked'].map(embarked_mapping)\n",
        "print()\n",
        "print( train.head()  )"
      ],
      "execution_count": 30,
      "outputs": [
        {
          "output_type": "stream",
          "text": [
            "\n",
            "   PassengerId  Survived  Pclass  Sex  SibSp  Parch   Fare  Embarked  AgeGroup  CabinBool  Title\n",
            "0            1         0       3    0      1      0   7.25         1       4.0          0    1.0\n",
            "1            2         1       1    1      1      0  71.28         2       6.0          1    3.0\n",
            "2            3         1       3    1      0      0   7.92         1       5.0          0    2.0\n",
            "3            4         1       1    1      1      0  53.10         1       5.0          1    3.0\n",
            "4            5         0       3    0      0      0   8.05         1       5.0          0    1.0\n"
          ],
          "name": "stdout"
        }
      ]
    },
    {
      "cell_type": "code",
      "metadata": {
        "id": "Fsg4_PtMU83L",
        "colab_type": "code",
        "colab": {
          "base_uri": "https://localhost:8080/",
          "height": 467
        },
        "outputId": "5160091b-44c1-432b-9652-403b65e02e35"
      },
      "source": [
        "#Fare Feature\n",
        "#It is time separate the fare values into some logical groups as well as\n",
        "# filling in the single missing value in the test dataset.\n",
        "\n",
        "#fill in missing Fare value in test set based on mean fare for that Pclass\n",
        "for x in range(len(test[\"Fare\"])):\n",
        "    if pd.isnull(test[\"Fare\"][x]):\n",
        "        pclass = test[\"Pclass\"][x] #Pclass = 3\n",
        "        test[\"Fare\"][x] = round(train[ train[\"Pclass\"] == pclass ][\"Fare\"].mean(), 2)\n",
        "\n",
        "\n",
        "#map Fare values into groups of numerical values\n",
        "train['FareBand'] = pd.qcut(train['Fare'], 4,\n",
        "                            labels = [1, 2, 3, 4])\n",
        "\n",
        "test['FareBand'] = pd.qcut(test['Fare'], 4,\n",
        "                           labels = [1, 2, 3, 4])\n",
        "\n",
        "\n",
        "\n",
        "#drop Fare values\n",
        "train = train.drop(['Fare'], axis = 1)\n",
        "test = test.drop(['Fare'], axis = 1)\n",
        "#check train data\n",
        "print( \"\\n\\nFare column droped\\n\"  )\n",
        "print( train  )\n",
        "\n",
        "\n",
        "#check test data\n",
        "print()\n",
        "print( test.head()  )"
      ],
      "execution_count": 31,
      "outputs": [
        {
          "output_type": "stream",
          "text": [
            "\n",
            "\n",
            "Fare column droped\n",
            "\n",
            "     PassengerId  Survived  Pclass  Sex  SibSp  Parch  Embarked  AgeGroup  CabinBool  Title FareBand\n",
            "0              1         0       3    0      1      0         1       4.0          0    1.0        1\n",
            "1              2         1       1    1      1      0         2       6.0          1    3.0        4\n",
            "2              3         1       3    1      0      0         1       5.0          0    2.0        2\n",
            "3              4         1       1    1      1      0         1       5.0          1    3.0        4\n",
            "4              5         0       3    0      0      0         1       5.0          0    1.0        2\n",
            "..           ...       ...     ...  ...    ...    ...       ...       ...        ...    ...      ...\n",
            "886          887         0       2    0      0      0         1       5.0          0    6.0        2\n",
            "887          888         1       1    1      0      0         1       4.0          1    2.0        3\n",
            "888          889         0       3    1      1      2         1       4.0          0    2.0        3\n",
            "889          890         1       1    0      0      0         2       5.0          1    1.0        3\n",
            "890          891         0       3    0      0      0         3       5.0          0    1.0        1\n",
            "\n",
            "[891 rows x 11 columns]\n",
            "\n",
            "   PassengerId  Pclass  Sex  SibSp  Parch  Embarked  AgeGroup  CabinBool  Title FareBand\n",
            "0          892       3    0      0      0         3       5.0          0      1        1\n",
            "1          893       3    1      1      0         1       6.0          0      3        1\n",
            "2          894       2    0      0      0         3       7.0          0      1        2\n",
            "3          895       3    0      0      0         1       5.0          0      1        2\n",
            "4          896       3    1      1      1         1       4.0          0      3        2\n"
          ],
          "name": "stdout"
        }
      ]
    },
    {
      "cell_type": "code",
      "metadata": {
        "id": "d13n-LsYVE21",
        "colab_type": "code",
        "colab": {}
      },
      "source": [
        "#6) Choosing the Best Model\n",
        "\n",
        "#Splitting the Training Data\n",
        "#We will use part of our training data (20% in this case) to test the accuracy of our different models.\n",
        "\n",
        "from sklearn.model_selection import train_test_split\n",
        "\n",
        "input_predictors = train.drop(['Survived', 'PassengerId'], axis=1)\n",
        "ouptut_target = train[\"Survived\"]\n",
        "\n",
        "\n",
        "x_train, x_val, y_train, y_val=train_test_split(\n",
        "    input_predictors, ouptut_target, test_size = 0.20, random_state = 7)"
      ],
      "execution_count": 32,
      "outputs": []
    },
    {
      "cell_type": "code",
      "metadata": {
        "id": "e_8j-lziVIg6",
        "colab_type": "code",
        "colab": {
          "base_uri": "https://localhost:8080/",
          "height": 197
        },
        "outputId": "205e728f-b94d-450e-e8d0-5c186a8116bc"
      },
      "source": [
        "#Testing Different Models\n",
        "#I will be testing the following models with my training data (got the list from here):\n",
        "\n",
        "#1) Logistic Regression\n",
        "#2) Gaussian Naive Bayes\n",
        "#3) Support Vector Machines\n",
        "#4) Linear SVC\n",
        "#5) Perceptron\n",
        "#6) Decision Tree Classifier\n",
        "#7) Random Forest Classifier\n",
        "#8) KNN or k-Nearest Neighbors\n",
        "#9) Stochastic Gradient Descent\n",
        "#10) Gradient Boosting Classifier\n",
        "\n",
        "\n",
        "\n",
        "\n",
        "#For each model, we set the model, fit it with 80% of our training data,\n",
        "# predict for 20% of the training data and check the accuracy.\n",
        "\n",
        "from sklearn.metrics import accuracy_score\n",
        "\n",
        "#MODEL-1) LogisticRegression\n",
        "\n",
        "from sklearn.linear_model import LogisticRegression\n",
        "logreg = LogisticRegression()\n",
        "logreg.fit(x_train, y_train)\n",
        "y_pred = logreg.predict(x_val)\n",
        "acc_logreg = round(accuracy_score(y_pred, y_val) * 100, 2)\n",
        "print( \"MODEL-1: Accuracy of LogisticRegression : \", acc_logreg  )\n",
        "\n",
        "#OUTPUT:-\n",
        "#MODEL-1: Accuracy of LogisticRegression :  77.09\n",
        "\n",
        "\n",
        "#MODEL-2) Gaussian Naive Bayes\n",
        "\n",
        "from sklearn.naive_bayes import GaussianNB\n",
        "\n",
        "gaussian = GaussianNB()\n",
        "gaussian.fit(x_train, y_train)\n",
        "y_pred = gaussian.predict(x_val)\n",
        "acc_gaussian = round(accuracy_score(y_pred, y_val) * 100, 2)\n",
        "print( \"MODEL-2: Accuracy of GaussianNB : \", acc_gaussian  )\n",
        "\n",
        "#OUTPUT:-\n",
        "#MODEL-2: Accuracy of GaussianNB : 78.68\n",
        "\n",
        "\n",
        "#MODEL-3) Support Vector Machines\n",
        "\n",
        "from sklearn.svm import SVC\n",
        "\n",
        "svc = SVC()\n",
        "svc.fit(x_train, y_train)\n",
        "y_pred = svc.predict(x_val)\n",
        "acc_svc = round(accuracy_score(y_pred, y_val) * 100, 2)\n",
        "print( \"MODEL-3: Accuracy of Support Vector Machines : \", acc_svc  )\n",
        "\n",
        "#OUTPUT:-\n",
        "#MODEL-3: Accuracy of Support Vector Machines :  82.74\n",
        "\n",
        "\n",
        "\n",
        "#MODEL-4) Linear SVC\n",
        "\n",
        "from sklearn.svm import LinearSVC\n",
        "\n",
        "linear_svc = LinearSVC()\n",
        "linear_svc.fit(x_train, y_train)\n",
        "y_pred = linear_svc.predict(x_val)\n",
        "acc_linear_svc = round(accuracy_score(y_pred, y_val) * 100, 2)\n",
        "print( \"MODEL-4: Accuracy of LinearSVC : \",acc_linear_svc  )\n",
        "\n",
        "#OUTPUT:-\n",
        "#MODEL-4: Accuracy of LinearSVC :  78.68\n",
        "\n",
        "\n",
        "\n",
        "\n",
        "#MODEL-5) Perceptron\n",
        "\n",
        "from sklearn.linear_model import Perceptron\n",
        "\n",
        "perceptron = Perceptron()\n",
        "perceptron.fit(x_train, y_train)\n",
        "y_pred = perceptron.predict(x_val)\n",
        "acc_perceptron = round(accuracy_score(y_pred, y_val) * 100, 2)\n",
        "print( \"MODEL-5: Accuracy of Perceptron : \",acc_perceptron  )\n",
        "\n",
        "#OUTPUT:-\n",
        "#MODEL-5: Accuracy of Perceptron :  79.19\n",
        "\n",
        "\n",
        "\n",
        "\n",
        "#MODEL-6) Decision Tree Classifier\n",
        "\n",
        "from sklearn.tree import DecisionTreeClassifier\n",
        "\n",
        "decisiontree = DecisionTreeClassifier()\n",
        "decisiontree.fit(x_train, y_train)\n",
        "y_pred = decisiontree.predict(x_val)\n",
        "acc_decisiontree = round(accuracy_score(y_pred, y_val) * 100, 2)\n",
        "print( \"MODEL-6: Accuracy of DecisionTreeClassifier : \", acc_decisiontree  )\n",
        "\n",
        "#OUTPUT:-\n",
        "#MODEL-6: Accuracy of DecisionTreeClassifier :  81.22\n",
        "\n",
        "\n",
        "\n",
        "#MODEL-7) Random Forest\n",
        "\n",
        "from sklearn.ensemble import RandomForestClassifier\n",
        "\n",
        "randomforest = RandomForestClassifier()\n",
        "randomforest.fit(x_train, y_train)\n",
        "y_pred = randomforest.predict(x_val)\n",
        "acc_randomforest = round(accuracy_score(y_pred, y_val) * 100, 2)\n",
        "print( \"MODEL-7: Accuracy of RandomForestClassifier : \",acc_randomforest  )\n",
        "\n",
        "#OUTPUT:-\n",
        "#MODEL-7: Accuracy of RandomForestClassifier :  83.25\n",
        "\n",
        "\n",
        "\n",
        "#MODEL-8) KNN or k-Nearest Neighbors\n",
        "\n",
        "from sklearn.neighbors import KNeighborsClassifier\n",
        "\n",
        "knn = KNeighborsClassifier()\n",
        "knn.fit(x_train, y_train)\n",
        "y_pred = knn.predict(x_val)\n",
        "acc_knn = round(accuracy_score(y_pred, y_val) * 100, 2)\n",
        "print( \"MODEL-8: Accuracy of k-Nearest Neighbors : \",acc_knn  )\n",
        "\n",
        "#OUTPUT:-\n",
        "#MODEL-8: Accuracy of k-Nearest Neighbors :  77.66\n",
        "\n",
        "\n",
        "#MODEL-9) Stochastic Gradient Descent\n",
        "\n",
        "from sklearn.linear_model import SGDClassifier\n",
        "\n",
        "sgd = SGDClassifier()\n",
        "sgd.fit(x_train, y_train)\n",
        "y_pred = sgd.predict(x_val)\n",
        "acc_sgd = round(accuracy_score(y_pred, y_val) * 100, 2)\n",
        "print( \"MODEL-9: Accuracy of Stochastic Gradient Descent : \",acc_sgd )\n",
        "\n",
        "#OUTPUT:-\n",
        "#MODEL-9: Accuracy of Stochastic Gradient Descent :  71.07\n",
        "\n",
        "\n",
        "\n",
        "\n",
        "#MODEL-10) Gradient Boosting Classifier\n",
        "\n",
        "from sklearn.ensemble import GradientBoostingClassifier\n",
        "\n",
        "gbk = GradientBoostingClassifier()\n",
        "gbk.fit(x_train, y_train)\n",
        "y_pred = gbk.predict(x_val)\n",
        "acc_gbk = round(accuracy_score(y_pred, y_val) * 100, 2)\n",
        "print( \"MODEL-10: Accuracy of GradientBoostingClassifier : \",acc_gbk )\n",
        "\n",
        "#OUTPUT:-\n",
        "#MODEL-10: Accuracy of Stochastic Gradient Descent :  84.77"
      ],
      "execution_count": 33,
      "outputs": [
        {
          "output_type": "stream",
          "text": [
            "MODEL-1: Accuracy of LogisticRegression :  77.09\n",
            "MODEL-2: Accuracy of GaussianNB :  77.09\n",
            "MODEL-3: Accuracy of Support Vector Machines :  75.98\n",
            "MODEL-4: Accuracy of LinearSVC :  76.54\n",
            "MODEL-5: Accuracy of Perceptron :  74.86\n",
            "MODEL-6: Accuracy of DecisionTreeClassifier :  72.63\n",
            "MODEL-7: Accuracy of RandomForestClassifier :  75.98\n",
            "MODEL-8: Accuracy of k-Nearest Neighbors :  75.42\n",
            "MODEL-9: Accuracy of Stochastic Gradient Descent :  73.74\n",
            "MODEL-10: Accuracy of GradientBoostingClassifier :  81.01\n"
          ],
          "name": "stdout"
        }
      ]
    },
    {
      "cell_type": "code",
      "metadata": {
        "id": "yAjQFhEvVYxy",
        "colab_type": "code",
        "colab": {
          "base_uri": "https://localhost:8080/",
          "height": 233
        },
        "outputId": "5c980059-6a2c-4759-d11d-0d3828c9ce96"
      },
      "source": [
        "#Let's compare the accuracies of each model!\n",
        "\n",
        "models = pd.DataFrame({\n",
        "    'Model': ['Logistic Regression','Gaussian Naive Bayes','Support Vector Machines',\n",
        "              'Linear SVC', 'Perceptron',  'Decision Tree',\n",
        "              'Random Forest', 'KNN','Stochastic Gradient Descent',\n",
        "              'Gradient Boosting Classifier'],\n",
        "    'Score': [acc_logreg, acc_gaussian, acc_svc,\n",
        "              acc_linear_svc, acc_perceptron,  acc_decisiontree,\n",
        "              acc_randomforest,  acc_knn,  acc_sgd, acc_gbk]\n",
        "                    })\n",
        "\n",
        "\n",
        "print()\n",
        "print( models.sort_values(by='Score', ascending=False) )"
      ],
      "execution_count": 34,
      "outputs": [
        {
          "output_type": "stream",
          "text": [
            "\n",
            "                          Model  Score\n",
            "9  Gradient Boosting Classifier  81.01\n",
            "0           Logistic Regression  77.09\n",
            "1          Gaussian Naive Bayes  77.09\n",
            "3                    Linear SVC  76.54\n",
            "2       Support Vector Machines  75.98\n",
            "6                 Random Forest  75.98\n",
            "7                           KNN  75.42\n",
            "4                    Perceptron  74.86\n",
            "8   Stochastic Gradient Descent  73.74\n",
            "5                 Decision Tree  72.63\n"
          ],
          "name": "stdout"
        }
      ]
    },
    {
      "cell_type": "code",
      "metadata": {
        "id": "Dcg1LII9Vm0f",
        "colab_type": "code",
        "colab": {
          "base_uri": "https://localhost:8080/",
          "height": 305
        },
        "outputId": "2cc38e02-d75e-4b4b-c896-7396d2117480"
      },
      "source": [
        "#According to above reporting, I decided to use the Random Forest model for the testing data.\n",
        "\n",
        "#7) Creating Submission Result File\n",
        "\n",
        "\n",
        "#It is time to create a submission.csv file which includes our predictions for test data\n",
        "\n",
        "#set ids as PassengerId and predict survival\n",
        "ids = test['PassengerId']\n",
        "predictions = randomforest.predict(test.drop('PassengerId', axis=1))\n",
        "\n",
        "#set the output as a dataframe and convert to csv file named submission.csv\n",
        "output = pd.DataFrame({ 'PassengerId' : ids, 'Survived': predictions })\n",
        "output.to_csv('submission.csv', index=False)\n",
        "\n",
        "print( \"All survival predictions done.\" )\n",
        "print( \"All predictions exported to submission.csv file.\" )\n",
        "\n",
        "print( output )"
      ],
      "execution_count": 35,
      "outputs": [
        {
          "output_type": "stream",
          "text": [
            "All survival predictions done.\n",
            "All predictions exported to submission.csv file.\n",
            "     PassengerId  Survived\n",
            "0            892         0\n",
            "1            893         0\n",
            "2            894         0\n",
            "3            895         0\n",
            "4            896         1\n",
            "..           ...       ...\n",
            "413         1305         0\n",
            "414         1306         1\n",
            "415         1307         0\n",
            "416         1308         0\n",
            "417         1309         1\n",
            "\n",
            "[418 rows x 2 columns]\n"
          ],
          "name": "stdout"
        }
      ]
    }
  ]
}